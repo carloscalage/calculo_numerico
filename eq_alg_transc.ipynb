{
 "cells": [
  {
   "cell_type": "markdown",
   "metadata": {},
   "source": [
    "#### Root-finding algorithms"
   ]
  },
  {
   "cell_type": "code",
   "execution_count": 2,
   "metadata": {},
   "outputs": [],
   "source": [
    "import math\n",
    "from sympy import *"
   ]
  },
  {
   "cell_type": "markdown",
   "metadata": {},
   "source": [
    "##### Functions"
   ]
  },
  {
   "cell_type": "code",
   "execution_count": 3,
   "metadata": {},
   "outputs": [],
   "source": [
    "f = [\n",
    "  lambda x: math.pow(x,10) - 1, \n",
    "  lambda x: math.exp(x) - 3 * x, \n",
    "  lambda x: math.pow(x,3) - (9 * x) + 5\n",
    "  ]"
   ]
  },
  {
   "cell_type": "markdown",
   "metadata": {},
   "source": [
    "##### Auxiliar Function"
   ]
  },
  {
   "cell_type": "code",
   "execution_count": 32,
   "metadata": {},
   "outputs": [],
   "source": [
    "def print_results(root, iterations, precision, a, b, func, x):\n",
    "    print(f'Root: {round(root, 4)}')\n",
    "    print(f'Iterations: {round(iterations, 4)}')\n",
    "    print(f'a: {round(a, 4)}')\n",
    "    print(f'b: {round(b, 4)}')\n",
    "    print(f'Erro: {round(abs(func(x)) - precision, 4)}')"
   ]
  },
  {
   "cell_type": "markdown",
   "metadata": {},
   "source": [
    "##### Bissection Method"
   ]
  },
  {
   "cell_type": "code",
   "execution_count": 47,
   "metadata": {},
   "outputs": [],
   "source": [
    "def bissec(a, b, precision, iterations, f):\n",
    "\n",
    "  if f(a) * f(b) >= 0:\n",
    "    print('Invalid interval')\n",
    "    return None\n",
    "\n",
    "  k = 1\n",
    "  M = f(a)\n",
    "  x = (a + b) / 2\n",
    "  \n",
    "\n",
    "  while k < iterations:\n",
    "    print(round(k,4), round(a,4), round(b,4), round(f(x),4), round(M,4))\n",
    "    if abs(f(x)) < precision:\n",
    "      break\n",
    "\n",
    "    if M * f(x) > 0:\n",
    "      a = x\n",
    "      M = f(a)\n",
    "    else:\n",
    "      b = x\n",
    "\n",
    "    if abs(f(x)) < precision:\n",
    "      break\n",
    "\n",
    "    x = (a + b) / 2\n",
    "\n",
    "    k += 1\n",
    "  \n",
    "  print_results(x, k, precision, a, b, f, x)\n",
    "\n",
    " "
   ]
  },
  {
   "cell_type": "code",
   "execution_count": 45,
   "metadata": {},
   "outputs": [
    {
     "name": "stdout",
     "output_type": "stream",
     "text": [
      "1 0.5 1 -1.3281 0.625\n",
      "2 0.5 0.75 -0.3809 0.625\n",
      "3 0.5 0.625 0.1155 0.625\n",
      "4 0.5625 0.625 -0.1344 0.1155\n",
      "Root: 0.5781\n",
      "Iterations: 5\n",
      "a: 0.5625\n",
      "b: 0.5938\n",
      "Erro: -0.0001\n"
     ]
    }
   ],
   "source": [
    "bissec(0.5, 1, 0.01, 5, h)"
   ]
  },
  {
   "cell_type": "code",
   "execution_count": 49,
   "metadata": {},
   "outputs": [
    {
     "name": "stdout",
     "output_type": "stream",
     "text": [
      "1 0 1.3 -0.9865 -1.0\n",
      "2 0.65 1.3 -0.2237 -0.9865\n",
      "3 0.975 1.3 2.6267 -0.2237\n",
      "4 0.975 1.1375 0.7285 -0.2237\n",
      "Root: 1.0156\n",
      "Iterations: 5\n",
      "a: 0.975\n",
      "b: 1.0563\n",
      "Erro: 0.1677\n"
     ]
    }
   ],
   "source": [
    "bissec(0, 1.3, 0.000000001, 5, f)"
   ]
  }
 ],
 "metadata": {
  "kernelspec": {
   "display_name": "Python 3.9.12 ('base')",
   "language": "python",
   "name": "python3"
  },
  "language_info": {
   "codemirror_mode": {
    "name": "ipython",
    "version": 3
   },
   "file_extension": ".py",
   "mimetype": "text/x-python",
   "name": "python",
   "nbconvert_exporter": "python",
   "pygments_lexer": "ipython3",
   "version": "3.9.12"
  },
  "orig_nbformat": 4,
  "vscode": {
   "interpreter": {
    "hash": "dd62c219f0f64c6bcbda77f88b0b8c52a89bde0996aff471810349fb86df7b3e"
   }
  }
 },
 "nbformat": 4,
 "nbformat_minor": 2
}
