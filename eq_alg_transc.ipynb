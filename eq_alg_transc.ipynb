{
 "cells": [
  {
   "cell_type": "markdown",
   "metadata": {},
   "source": [
    "#### Root-finding algorithms"
   ]
  },
  {
   "cell_type": "code",
   "execution_count": 7,
   "metadata": {},
   "outputs": [],
   "source": [
    "import math\n",
    "from sympy import *\n",
    "import pandas as pd"
   ]
  },
  {
   "cell_type": "markdown",
   "metadata": {},
   "source": [
    "##### Functions"
   ]
  },
  {
   "cell_type": "code",
   "execution_count": 3,
   "metadata": {},
   "outputs": [],
   "source": [
    "f = [\n",
    "  lambda x: math.pow(x,10) - 1, \n",
    "  lambda x: math.exp(x) - 3 * x, \n",
    "  lambda x: math.pow(x,3) - (9 * x) + 5\n",
    "  ]"
   ]
  },
  {
   "cell_type": "markdown",
   "metadata": {},
   "source": [
    "##### Auxiliar Function"
   ]
  },
  {
   "cell_type": "code",
   "execution_count": 32,
   "metadata": {},
   "outputs": [],
   "source": [
    "def print_results(root, iterations, precision, a, b, func, x):\n",
    "    print(f'Root: {round(root, 4)}')\n",
    "    print(f'Iterations: {round(iterations, 4)}')\n",
    "    print(f'a: {round(a, 4)}')\n",
    "    print(f'b: {round(b, 4)}')\n",
    "    print(f'Erro: {round(abs(func(x)) - precision, 4)}')"
   ]
  },
  {
   "cell_type": "markdown",
   "metadata": {},
   "source": [
    "##### Bissection Method"
   ]
  },
  {
   "cell_type": "code",
   "execution_count": 28,
   "metadata": {},
   "outputs": [],
   "source": [
    "def bissec(a, b, precision, iterations, f):\n",
    "\n",
    "  if f(a) * f(b) >= 0:\n",
    "    print('Invalid interval')\n",
    "    return None\n",
    "  \n",
    "  k = 1\n",
    "  M = f(a)\n",
    "  x = (a + b) / 2\n",
    "\n",
    "  initial_data = {'a': a, 'b': b, 'x': x, 'f(x)': f(x), 'f(a)': M, 'f(a)*f(x)': f(a)*f(x)}\n",
    "  df = pd.DataFrame(initial_data, index=[1])\n",
    "\n",
    "  while k < iterations  or abs(f(x)) > precision:\n",
    "    if M * f(x) > 0:\n",
    "      a = x\n",
    "      M = f(a)\n",
    "    else:\n",
    "      b = x\n",
    "\n",
    "    x = (a + b) / 2\n",
    "    df = df.append({'a': a, 'b': b, 'x': x, 'f(x)': f(x), 'f(a)': f(a), 'f(a)*f(x)': f(a)*f(x)}, ignore_index=True)\n",
    "\n",
    "    k += 1\n",
    "  \n",
    "  print(f'Root: {round(f(x), 4)}, Iterations: {k}')\n",
    "  return df\n",
    "\n",
    " "
   ]
  },
  {
   "cell_type": "code",
   "execution_count": 29,
   "metadata": {},
   "outputs": [
    {
     "name": "stdout",
     "output_type": "stream",
     "text": [
      "Root: -0.0099, Iterations: 5\n"
     ]
    },
    {
     "data": {
      "text/html": [
       "<div>\n",
       "<style scoped>\n",
       "    .dataframe tbody tr th:only-of-type {\n",
       "        vertical-align: middle;\n",
       "    }\n",
       "\n",
       "    .dataframe tbody tr th {\n",
       "        vertical-align: top;\n",
       "    }\n",
       "\n",
       "    .dataframe thead th {\n",
       "        text-align: right;\n",
       "    }\n",
       "</style>\n",
       "<table border=\"1\" class=\"dataframe\">\n",
       "  <thead>\n",
       "    <tr style=\"text-align: right;\">\n",
       "      <th></th>\n",
       "      <th>a</th>\n",
       "      <th>b</th>\n",
       "      <th>x</th>\n",
       "      <th>f(x)</th>\n",
       "      <th>f(a)</th>\n",
       "      <th>f(a)*f(x)</th>\n",
       "    </tr>\n",
       "  </thead>\n",
       "  <tbody>\n",
       "    <tr>\n",
       "      <th>0</th>\n",
       "      <td>0.5000</td>\n",
       "      <td>1.00000</td>\n",
       "      <td>0.750000</td>\n",
       "      <td>-1.328125</td>\n",
       "      <td>0.625000</td>\n",
       "      <td>-0.830078</td>\n",
       "    </tr>\n",
       "    <tr>\n",
       "      <th>1</th>\n",
       "      <td>0.5000</td>\n",
       "      <td>0.75000</td>\n",
       "      <td>0.625000</td>\n",
       "      <td>-0.380859</td>\n",
       "      <td>0.625000</td>\n",
       "      <td>-0.238037</td>\n",
       "    </tr>\n",
       "    <tr>\n",
       "      <th>2</th>\n",
       "      <td>0.5000</td>\n",
       "      <td>0.62500</td>\n",
       "      <td>0.562500</td>\n",
       "      <td>0.115479</td>\n",
       "      <td>0.625000</td>\n",
       "      <td>0.072174</td>\n",
       "    </tr>\n",
       "    <tr>\n",
       "      <th>3</th>\n",
       "      <td>0.5625</td>\n",
       "      <td>0.62500</td>\n",
       "      <td>0.593750</td>\n",
       "      <td>-0.134430</td>\n",
       "      <td>0.115479</td>\n",
       "      <td>-0.015524</td>\n",
       "    </tr>\n",
       "    <tr>\n",
       "      <th>4</th>\n",
       "      <td>0.5625</td>\n",
       "      <td>0.59375</td>\n",
       "      <td>0.578125</td>\n",
       "      <td>-0.009899</td>\n",
       "      <td>0.115479</td>\n",
       "      <td>-0.001143</td>\n",
       "    </tr>\n",
       "  </tbody>\n",
       "</table>\n",
       "</div>"
      ],
      "text/plain": [
       "        a        b         x      f(x)      f(a)  f(a)*f(x)\n",
       "0  0.5000  1.00000  0.750000 -1.328125  0.625000  -0.830078\n",
       "1  0.5000  0.75000  0.625000 -0.380859  0.625000  -0.238037\n",
       "2  0.5000  0.62500  0.562500  0.115479  0.625000   0.072174\n",
       "3  0.5625  0.62500  0.593750 -0.134430  0.115479  -0.015524\n",
       "4  0.5625  0.59375  0.578125 -0.009899  0.115479  -0.001143"
      ]
     },
     "execution_count": 29,
     "metadata": {},
     "output_type": "execute_result"
    }
   ],
   "source": [
    "bissec(0.5, 1, 0.01, 5, f[2])"
   ]
  },
  {
   "cell_type": "code",
   "execution_count": 49,
   "metadata": {},
   "outputs": [
    {
     "name": "stdout",
     "output_type": "stream",
     "text": [
      "1 0 1.3 -0.9865 -1.0\n",
      "2 0.65 1.3 -0.2237 -0.9865\n",
      "3 0.975 1.3 2.6267 -0.2237\n",
      "4 0.975 1.1375 0.7285 -0.2237\n",
      "Root: 1.0156\n",
      "Iterations: 5\n",
      "a: 0.975\n",
      "b: 1.0563\n",
      "Erro: 0.1677\n"
     ]
    }
   ],
   "source": [
    "bissec(0, 1.3, 0.000000001, 5, f)"
   ]
  }
 ],
 "metadata": {
  "kernelspec": {
   "display_name": "Python 3.9.12 ('base')",
   "language": "python",
   "name": "python3"
  },
  "language_info": {
   "codemirror_mode": {
    "name": "ipython",
    "version": 3
   },
   "file_extension": ".py",
   "mimetype": "text/x-python",
   "name": "python",
   "nbconvert_exporter": "python",
   "pygments_lexer": "ipython3",
   "version": "3.9.12"
  },
  "orig_nbformat": 4,
  "vscode": {
   "interpreter": {
    "hash": "dd62c219f0f64c6bcbda77f88b0b8c52a89bde0996aff471810349fb86df7b3e"
   }
  }
 },
 "nbformat": 4,
 "nbformat_minor": 2
}
