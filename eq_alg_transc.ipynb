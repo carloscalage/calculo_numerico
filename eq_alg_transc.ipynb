{
 "cells": [
  {
   "cell_type": "markdown",
   "metadata": {},
   "source": [
    "#### Root-finding algorithms"
   ]
  },
  {
   "cell_type": "code",
   "execution_count": 33,
   "metadata": {},
   "outputs": [],
   "source": [
    "from sympy import *\n",
    "import pandas as pd\n",
    "import matplotlib.pyplot as plt\n",
    "import numpy as np"
   ]
  },
  {
   "cell_type": "markdown",
   "metadata": {},
   "source": [
    "##### Functions"
   ]
  },
  {
   "cell_type": "code",
   "execution_count": 56,
   "metadata": {},
   "outputs": [],
   "source": [
    "f = [\n",
    "  lambda x: np.power(x,10) - 1, \n",
    "  lambda x: np.exp(x) - 3 * x, \n",
    "  lambda x: np.power(x,3) - (9 * x) + 5,\n",
    "  lambda x: 2 * np.power(x,3) + (5 * np.power(x,2)) - (8 * x) - 1,\n",
    "  ]"
   ]
  },
  {
   "cell_type": "markdown",
   "metadata": {},
   "source": [
    "##### Auxiliar Function"
   ]
  },
  {
   "cell_type": "code",
   "execution_count": 95,
   "metadata": {},
   "outputs": [],
   "source": [
    "def plot_func(f, x_min, x_max, n, points):\n",
    "  x = np.linspace(x_min, x_max, n)\n",
    "  y = np.array([f(i) for i in x])\n",
    "  plt.figure(dpi=120)\n",
    "  plt.plot(x, y)\n",
    "  plt.plot(points[0], points[1], 'ro')\n",
    "  plt.grid(True)\n",
    "  plt.show()"
   ]
  },
  {
   "cell_type": "markdown",
   "metadata": {},
   "source": [
    "##### Bissection Method"
   ]
  },
  {
   "cell_type": "code",
   "execution_count": 134,
   "metadata": {},
   "outputs": [],
   "source": [
    "def bissec(a, b, precision, iterations, f):\n",
    "\n",
    "  if f(a) * f(b) >= 0:\n",
    "    print('Invalid interval')\n",
    "    return None\n",
    "  \n",
    "  k = 1\n",
    "  M = f(a)\n",
    "  x = (a + b) / 2\n",
    "\n",
    "  initial_data = {'a': a, 'b': b, 'x': x, 'f(x)': f(x), 'f(a)': M, 'f(a)*f(x)': f(a)*f(x)}\n",
    "  df = pd.DataFrame(initial_data, index=[1])\n",
    "\n",
    "  while k < iterations and abs(f(x)) > precision:\n",
    "    if M * f(x) > 0:\n",
    "      a = x\n",
    "      M = f(a)\n",
    "    else:\n",
    "      b = x\n",
    "\n",
    "    x = (a + b) / 2\n",
    "    df = df.append({'a': a, 'b': b, 'x': x, 'f(x)': f(x), 'f(a)': f(a), 'f(a)*f(x)': f(a)*f(x)}, ignore_index=True)\n",
    "\n",
    "    k += 1\n",
    "\n",
    "  print(f'Root: {round(f(x), 4)}, Iterations: {k}')\n",
    "\n",
    "  plot_func(f, df['a'][0], df['b'][0], 100, df[['x', 'f(x)']])\n",
    "\n",
    "  return df\n",
    "\n",
    " "
   ]
  },
  {
   "cell_type": "code",
   "execution_count": 136,
   "metadata": {},
   "outputs": [
    {
     "name": "stdout",
     "output_type": "stream",
     "text": [
      "Root: -0.0099, Iterations: 5\n",
      "<function <lambda> at 0x7f84ea822550> 0.5 1.0 100           x      f(x)\n",
      "0  0.750000 -1.328125\n",
      "1  0.625000 -0.380859\n",
      "2  0.562500  0.115479\n",
      "3  0.593750 -0.134430\n",
      "4  0.578125 -0.009899\n"
     ]
    },
    {
     "ename": "KeyError",
     "evalue": "0",
     "output_type": "error",
     "traceback": [
      "\u001b[0;31m---------------------------------------------------------------------------\u001b[0m",
      "\u001b[0;31mKeyError\u001b[0m                                  Traceback (most recent call last)",
      "File \u001b[0;32m~/anaconda3/lib/python3.9/site-packages/pandas/core/indexes/base.py:3361\u001b[0m, in \u001b[0;36mIndex.get_loc\u001b[0;34m(self, key, method, tolerance)\u001b[0m\n\u001b[1;32m   3360\u001b[0m \u001b[39mtry\u001b[39;00m:\n\u001b[0;32m-> 3361\u001b[0m     \u001b[39mreturn\u001b[39;00m \u001b[39mself\u001b[39;49m\u001b[39m.\u001b[39;49m_engine\u001b[39m.\u001b[39;49mget_loc(casted_key)\n\u001b[1;32m   3362\u001b[0m \u001b[39mexcept\u001b[39;00m \u001b[39mKeyError\u001b[39;00m \u001b[39mas\u001b[39;00m err:\n",
      "File \u001b[0;32m~/anaconda3/lib/python3.9/site-packages/pandas/_libs/index.pyx:76\u001b[0m, in \u001b[0;36mpandas._libs.index.IndexEngine.get_loc\u001b[0;34m()\u001b[0m\n",
      "File \u001b[0;32m~/anaconda3/lib/python3.9/site-packages/pandas/_libs/index.pyx:108\u001b[0m, in \u001b[0;36mpandas._libs.index.IndexEngine.get_loc\u001b[0;34m()\u001b[0m\n",
      "File \u001b[0;32mpandas/_libs/hashtable_class_helper.pxi:5198\u001b[0m, in \u001b[0;36mpandas._libs.hashtable.PyObjectHashTable.get_item\u001b[0;34m()\u001b[0m\n",
      "File \u001b[0;32mpandas/_libs/hashtable_class_helper.pxi:5206\u001b[0m, in \u001b[0;36mpandas._libs.hashtable.PyObjectHashTable.get_item\u001b[0;34m()\u001b[0m\n",
      "\u001b[0;31mKeyError\u001b[0m: 0",
      "\nThe above exception was the direct cause of the following exception:\n",
      "\u001b[0;31mKeyError\u001b[0m                                  Traceback (most recent call last)",
      "\u001b[1;32m/Users/carlosaugustocalage/Documents/UFPel/CNC/eq_alg_transc.ipynb Célula: 9\u001b[0m in \u001b[0;36m<cell line: 1>\u001b[0;34m()\u001b[0m\n\u001b[0;32m----> <a href='vscode-notebook-cell:/Users/carlosaugustocalage/Documents/UFPel/CNC/eq_alg_transc.ipynb#X32sZmlsZQ%3D%3D?line=0'>1</a>\u001b[0m bissec(\u001b[39m0.5\u001b[39;49m, \u001b[39m1\u001b[39;49m, \u001b[39m0.01\u001b[39;49m, \u001b[39m5\u001b[39;49m, f[\u001b[39m2\u001b[39;49m])\n",
      "\u001b[1;32m/Users/carlosaugustocalage/Documents/UFPel/CNC/eq_alg_transc.ipynb Célula: 9\u001b[0m in \u001b[0;36mbissec\u001b[0;34m(a, b, precision, iterations, f)\u001b[0m\n\u001b[1;32m     <a href='vscode-notebook-cell:/Users/carlosaugustocalage/Documents/UFPel/CNC/eq_alg_transc.ipynb#X32sZmlsZQ%3D%3D?line=25'>26</a>\u001b[0m \u001b[39mprint\u001b[39m(\u001b[39mf\u001b[39m\u001b[39m'\u001b[39m\u001b[39mRoot: \u001b[39m\u001b[39m{\u001b[39;00m\u001b[39mround\u001b[39m(f(x), \u001b[39m4\u001b[39m)\u001b[39m}\u001b[39;00m\u001b[39m, Iterations: \u001b[39m\u001b[39m{\u001b[39;00mk\u001b[39m}\u001b[39;00m\u001b[39m'\u001b[39m)\n\u001b[1;32m     <a href='vscode-notebook-cell:/Users/carlosaugustocalage/Documents/UFPel/CNC/eq_alg_transc.ipynb#X32sZmlsZQ%3D%3D?line=27'>28</a>\u001b[0m \u001b[39mprint\u001b[39m(f, df[\u001b[39m'\u001b[39m\u001b[39ma\u001b[39m\u001b[39m'\u001b[39m][\u001b[39m0\u001b[39m], df[\u001b[39m'\u001b[39m\u001b[39mb\u001b[39m\u001b[39m'\u001b[39m][\u001b[39m0\u001b[39m], \u001b[39m100\u001b[39m, df[[\u001b[39m'\u001b[39m\u001b[39mx\u001b[39m\u001b[39m'\u001b[39m, \u001b[39m'\u001b[39m\u001b[39mf(x)\u001b[39m\u001b[39m'\u001b[39m]])\n\u001b[0;32m---> <a href='vscode-notebook-cell:/Users/carlosaugustocalage/Documents/UFPel/CNC/eq_alg_transc.ipynb#X32sZmlsZQ%3D%3D?line=28'>29</a>\u001b[0m plot_func(f, df[\u001b[39m'\u001b[39;49m\u001b[39ma\u001b[39;49m\u001b[39m'\u001b[39;49m][\u001b[39m0\u001b[39;49m], df[\u001b[39m'\u001b[39;49m\u001b[39mb\u001b[39;49m\u001b[39m'\u001b[39;49m][\u001b[39m0\u001b[39;49m], \u001b[39m100\u001b[39;49m, df[[\u001b[39m'\u001b[39;49m\u001b[39mx\u001b[39;49m\u001b[39m'\u001b[39;49m, \u001b[39m'\u001b[39;49m\u001b[39mf(x)\u001b[39;49m\u001b[39m'\u001b[39;49m]])\n\u001b[1;32m     <a href='vscode-notebook-cell:/Users/carlosaugustocalage/Documents/UFPel/CNC/eq_alg_transc.ipynb#X32sZmlsZQ%3D%3D?line=30'>31</a>\u001b[0m \u001b[39mreturn\u001b[39;00m df\n",
      "\u001b[1;32m/Users/carlosaugustocalage/Documents/UFPel/CNC/eq_alg_transc.ipynb Célula: 9\u001b[0m in \u001b[0;36mplot_func\u001b[0;34m(f, x_min, x_max, n, points)\u001b[0m\n\u001b[1;32m      <a href='vscode-notebook-cell:/Users/carlosaugustocalage/Documents/UFPel/CNC/eq_alg_transc.ipynb#X32sZmlsZQ%3D%3D?line=3'>4</a>\u001b[0m plt\u001b[39m.\u001b[39mfigure(dpi\u001b[39m=\u001b[39m\u001b[39m120\u001b[39m)\n\u001b[1;32m      <a href='vscode-notebook-cell:/Users/carlosaugustocalage/Documents/UFPel/CNC/eq_alg_transc.ipynb#X32sZmlsZQ%3D%3D?line=4'>5</a>\u001b[0m plt\u001b[39m.\u001b[39mplot(x, y)\n\u001b[0;32m----> <a href='vscode-notebook-cell:/Users/carlosaugustocalage/Documents/UFPel/CNC/eq_alg_transc.ipynb#X32sZmlsZQ%3D%3D?line=5'>6</a>\u001b[0m plt\u001b[39m.\u001b[39mplot(points[\u001b[39m0\u001b[39;49m], points[\u001b[39m1\u001b[39m], \u001b[39m'\u001b[39m\u001b[39mro\u001b[39m\u001b[39m'\u001b[39m)\n\u001b[1;32m      <a href='vscode-notebook-cell:/Users/carlosaugustocalage/Documents/UFPel/CNC/eq_alg_transc.ipynb#X32sZmlsZQ%3D%3D?line=6'>7</a>\u001b[0m plt\u001b[39m.\u001b[39mgrid(\u001b[39mTrue\u001b[39;00m)\n\u001b[1;32m      <a href='vscode-notebook-cell:/Users/carlosaugustocalage/Documents/UFPel/CNC/eq_alg_transc.ipynb#X32sZmlsZQ%3D%3D?line=7'>8</a>\u001b[0m plt\u001b[39m.\u001b[39mshow()\n",
      "File \u001b[0;32m~/anaconda3/lib/python3.9/site-packages/pandas/core/frame.py:3458\u001b[0m, in \u001b[0;36mDataFrame.__getitem__\u001b[0;34m(self, key)\u001b[0m\n\u001b[1;32m   3456\u001b[0m \u001b[39mif\u001b[39;00m \u001b[39mself\u001b[39m\u001b[39m.\u001b[39mcolumns\u001b[39m.\u001b[39mnlevels \u001b[39m>\u001b[39m \u001b[39m1\u001b[39m:\n\u001b[1;32m   3457\u001b[0m     \u001b[39mreturn\u001b[39;00m \u001b[39mself\u001b[39m\u001b[39m.\u001b[39m_getitem_multilevel(key)\n\u001b[0;32m-> 3458\u001b[0m indexer \u001b[39m=\u001b[39m \u001b[39mself\u001b[39;49m\u001b[39m.\u001b[39;49mcolumns\u001b[39m.\u001b[39;49mget_loc(key)\n\u001b[1;32m   3459\u001b[0m \u001b[39mif\u001b[39;00m is_integer(indexer):\n\u001b[1;32m   3460\u001b[0m     indexer \u001b[39m=\u001b[39m [indexer]\n",
      "File \u001b[0;32m~/anaconda3/lib/python3.9/site-packages/pandas/core/indexes/base.py:3363\u001b[0m, in \u001b[0;36mIndex.get_loc\u001b[0;34m(self, key, method, tolerance)\u001b[0m\n\u001b[1;32m   3361\u001b[0m         \u001b[39mreturn\u001b[39;00m \u001b[39mself\u001b[39m\u001b[39m.\u001b[39m_engine\u001b[39m.\u001b[39mget_loc(casted_key)\n\u001b[1;32m   3362\u001b[0m     \u001b[39mexcept\u001b[39;00m \u001b[39mKeyError\u001b[39;00m \u001b[39mas\u001b[39;00m err:\n\u001b[0;32m-> 3363\u001b[0m         \u001b[39mraise\u001b[39;00m \u001b[39mKeyError\u001b[39;00m(key) \u001b[39mfrom\u001b[39;00m \u001b[39merr\u001b[39;00m\n\u001b[1;32m   3365\u001b[0m \u001b[39mif\u001b[39;00m is_scalar(key) \u001b[39mand\u001b[39;00m isna(key) \u001b[39mand\u001b[39;00m \u001b[39mnot\u001b[39;00m \u001b[39mself\u001b[39m\u001b[39m.\u001b[39mhasnans:\n\u001b[1;32m   3366\u001b[0m     \u001b[39mraise\u001b[39;00m \u001b[39mKeyError\u001b[39;00m(key)\n",
      "\u001b[0;31mKeyError\u001b[0m: 0"
     ]
    },
    {
     "data": {
      "image/png": "[encoded data removed]",
      "text/plain": [
       "<Figure size 720x480 with 1 Axes>"
      ]
     },
     "metadata": {
      "needs_background": "light"
     },
     "output_type": "display_data"
    }
   ],
   "source": [
    "bissec(0.5, 1, 0.01, 5, f[2])"
   ]
  },
  {
   "cell_type": "markdown",
   "metadata": {},
   "source": [
    "##### False Position Method"
   ]
  },
  {
   "cell_type": "code",
   "execution_count": 58,
   "metadata": {},
   "outputs": [],
   "source": [
    "def false_position(a, b, precision, iterations, f):\n",
    "\n",
    "  if f(a) * f(b) >= 0:\n",
    "    print('Invalid interval')\n",
    "    return None\n",
    "  \n",
    "  k = 1\n",
    "  M = f(a)\n",
    "  x = (a * f(b)) - (b * f(a)) / (f(b) - f(a))\n",
    "\n",
    "  initial_data = {'a': a, 'b': b, 'x': x, 'f(x)': f(x)}\n",
    "  df = pd.DataFrame(initial_data, index=[1])\n",
    "\n",
    "  while k < iterations and abs(f(x)) > precision:\n",
    "    if M * f(x) > 0:\n",
    "      a = x\n",
    "      M = f(a)\n",
    "    else:\n",
    "      b = x\n",
    "\n",
    "    x = a * f(b) - b * f(a) / (f(b) - f(a))\n",
    "    df = df.append({'a': a, 'b': b, 'x': x, 'f(x)': f(x)}, ignore_index=True)\n",
    "\n",
    "    k += 1\n",
    "  \n",
    "  print(f'Root: {round(f(x), 4)}, Iterations: {k}')\n",
    "  return df"
   ]
  },
  {
   "cell_type": "markdown",
   "metadata": {},
   "source": [
    "##### Results"
   ]
  },
  {
   "cell_type": "code",
   "execution_count": 105,
   "metadata": {},
   "outputs": [
    {
     "name": "stdout",
     "output_type": "stream",
     "text": [
      "Root: -0.0099, Iterations: 5\n",
      "0.5\n"
     ]
    },
    {
     "data": {
      "text/html": [
       "<div>\n",
       "<style scoped>\n",
       "    .dataframe tbody tr th:only-of-type {\n",
       "        vertical-align: middle;\n",
       "    }\n",
       "\n",
       "    .dataframe tbody tr th {\n",
       "        vertical-align: top;\n",
       "    }\n",
       "\n",
       "    .dataframe thead th {\n",
       "        text-align: right;\n",
       "    }\n",
       "</style>\n",
       "<table border=\"1\" class=\"dataframe\">\n",
       "  <thead>\n",
       "    <tr style=\"text-align: right;\">\n",
       "      <th></th>\n",
       "      <th>a</th>\n",
       "      <th>b</th>\n",
       "      <th>x</th>\n",
       "      <th>f(x)</th>\n",
       "      <th>f(a)</th>\n",
       "      <th>f(a)*f(x)</th>\n",
       "    </tr>\n",
       "  </thead>\n",
       "  <tbody>\n",
       "    <tr>\n",
       "      <th>0</th>\n",
       "      <td>0.5000</td>\n",
       "      <td>1.00000</td>\n",
       "      <td>0.750000</td>\n",
       "      <td>-1.328125</td>\n",
       "      <td>0.625000</td>\n",
       "      <td>-0.830078</td>\n",
       "    </tr>\n",
       "    <tr>\n",
       "      <th>1</th>\n",
       "      <td>0.5000</td>\n",
       "      <td>0.75000</td>\n",
       "      <td>0.625000</td>\n",
       "      <td>-0.380859</td>\n",
       "      <td>0.625000</td>\n",
       "      <td>-0.238037</td>\n",
       "    </tr>\n",
       "    <tr>\n",
       "      <th>2</th>\n",
       "      <td>0.5000</td>\n",
       "      <td>0.62500</td>\n",
       "      <td>0.562500</td>\n",
       "      <td>0.115479</td>\n",
       "      <td>0.625000</td>\n",
       "      <td>0.072174</td>\n",
       "    </tr>\n",
       "    <tr>\n",
       "      <th>3</th>\n",
       "      <td>0.5625</td>\n",
       "      <td>0.62500</td>\n",
       "      <td>0.593750</td>\n",
       "      <td>-0.134430</td>\n",
       "      <td>0.115479</td>\n",
       "      <td>-0.015524</td>\n",
       "    </tr>\n",
       "    <tr>\n",
       "      <th>4</th>\n",
       "      <td>0.5625</td>\n",
       "      <td>0.59375</td>\n",
       "      <td>0.578125</td>\n",
       "      <td>-0.009899</td>\n",
       "      <td>0.115479</td>\n",
       "      <td>-0.001143</td>\n",
       "    </tr>\n",
       "  </tbody>\n",
       "</table>\n",
       "</div>"
      ],
      "text/plain": [
       "        a        b         x      f(x)      f(a)  f(a)*f(x)\n",
       "0  0.5000  1.00000  0.750000 -1.328125  0.625000  -0.830078\n",
       "1  0.5000  0.75000  0.625000 -0.380859  0.625000  -0.238037\n",
       "2  0.5000  0.62500  0.562500  0.115479  0.625000   0.072174\n",
       "3  0.5625  0.62500  0.593750 -0.134430  0.115479  -0.015524\n",
       "4  0.5625  0.59375  0.578125 -0.009899  0.115479  -0.001143"
      ]
     },
     "execution_count": 105,
     "metadata": {},
     "output_type": "execute_result"
    }
   ],
   "source": [
    "bissec(0.5, 1, 0.01, 5, f[2])"
   ]
  },
  {
   "cell_type": "code",
   "execution_count": 60,
   "metadata": {},
   "outputs": [
    {
     "name": "stdout",
     "output_type": "stream",
     "text": [
      "Root: -0.0002, Iterations: 4\n"
     ]
    },
    {
     "data": {
      "text/html": [
       "<div>\n",
       "<style scoped>\n",
       "    .dataframe tbody tr th:only-of-type {\n",
       "        vertical-align: middle;\n",
       "    }\n",
       "\n",
       "    .dataframe tbody tr th {\n",
       "        vertical-align: top;\n",
       "    }\n",
       "\n",
       "    .dataframe thead th {\n",
       "        text-align: right;\n",
       "    }\n",
       "</style>\n",
       "<table border=\"1\" class=\"dataframe\">\n",
       "  <thead>\n",
       "    <tr style=\"text-align: right;\">\n",
       "      <th></th>\n",
       "      <th>a</th>\n",
       "      <th>b</th>\n",
       "      <th>x</th>\n",
       "      <th>f(x)</th>\n",
       "    </tr>\n",
       "  </thead>\n",
       "  <tbody>\n",
       "    <tr>\n",
       "      <th>0</th>\n",
       "      <td>0.0</td>\n",
       "      <td>1.000000</td>\n",
       "      <td>0.625000</td>\n",
       "      <td>-0.380859</td>\n",
       "    </tr>\n",
       "    <tr>\n",
       "      <th>1</th>\n",
       "      <td>0.0</td>\n",
       "      <td>0.625000</td>\n",
       "      <td>0.580762</td>\n",
       "      <td>-0.030978</td>\n",
       "    </tr>\n",
       "    <tr>\n",
       "      <th>2</th>\n",
       "      <td>0.0</td>\n",
       "      <td>0.580762</td>\n",
       "      <td>0.577186</td>\n",
       "      <td>-0.002390</td>\n",
       "    </tr>\n",
       "    <tr>\n",
       "      <th>3</th>\n",
       "      <td>0.0</td>\n",
       "      <td>0.577186</td>\n",
       "      <td>0.576910</td>\n",
       "      <td>-0.000184</td>\n",
       "    </tr>\n",
       "  </tbody>\n",
       "</table>\n",
       "</div>"
      ],
      "text/plain": [
       "     a         b         x      f(x)\n",
       "0  0.0  1.000000  0.625000 -0.380859\n",
       "1  0.0  0.625000  0.580762 -0.030978\n",
       "2  0.0  0.580762  0.577186 -0.002390\n",
       "3  0.0  0.577186  0.576910 -0.000184"
      ]
     },
     "execution_count": 60,
     "metadata": {},
     "output_type": "execute_result"
    }
   ],
   "source": [
    "false_position(0, 1, 0.0005, 5, f[2])"
   ]
  },
  {
   "cell_type": "code",
   "execution_count": 59,
   "metadata": {},
   "outputs": [
    {
     "name": "stdout",
     "output_type": "stream",
     "text": [
      "Root: 120.5802, Iterations: 5\n"
     ]
    },
    {
     "data": {
      "text/html": [
       "<div>\n",
       "<style scoped>\n",
       "    .dataframe tbody tr th:only-of-type {\n",
       "        vertical-align: middle;\n",
       "    }\n",
       "\n",
       "    .dataframe tbody tr th {\n",
       "        vertical-align: top;\n",
       "    }\n",
       "\n",
       "    .dataframe thead th {\n",
       "        text-align: right;\n",
       "    }\n",
       "</style>\n",
       "<table border=\"1\" class=\"dataframe\">\n",
       "  <thead>\n",
       "    <tr style=\"text-align: right;\">\n",
       "      <th></th>\n",
       "      <th>a</th>\n",
       "      <th>b</th>\n",
       "      <th>x</th>\n",
       "      <th>f(x)</th>\n",
       "    </tr>\n",
       "  </thead>\n",
       "  <tbody>\n",
       "    <tr>\n",
       "      <th>0</th>\n",
       "      <td>0.00</td>\n",
       "      <td>3.000000</td>\n",
       "      <td>0.040000</td>\n",
       "      <td>-1.311872</td>\n",
       "    </tr>\n",
       "    <tr>\n",
       "      <th>1</th>\n",
       "      <td>0.04</td>\n",
       "      <td>3.000000</td>\n",
       "      <td>3.012258</td>\n",
       "      <td>74.935035</td>\n",
       "    </tr>\n",
       "    <tr>\n",
       "      <th>2</th>\n",
       "      <td>0.04</td>\n",
       "      <td>3.012258</td>\n",
       "      <td>3.049229</td>\n",
       "      <td>77.797386</td>\n",
       "    </tr>\n",
       "    <tr>\n",
       "      <th>3</th>\n",
       "      <td>0.04</td>\n",
       "      <td>3.049229</td>\n",
       "      <td>3.162461</td>\n",
       "      <td>86.962658</td>\n",
       "    </tr>\n",
       "    <tr>\n",
       "      <th>4</th>\n",
       "      <td>0.04</td>\n",
       "      <td>3.162461</td>\n",
       "      <td>3.525505</td>\n",
       "      <td>120.580152</td>\n",
       "    </tr>\n",
       "  </tbody>\n",
       "</table>\n",
       "</div>"
      ],
      "text/plain": [
       "      a         b         x        f(x)\n",
       "0  0.00  3.000000  0.040000   -1.311872\n",
       "1  0.04  3.000000  3.012258   74.935035\n",
       "2  0.04  3.012258  3.049229   77.797386\n",
       "3  0.04  3.049229  3.162461   86.962658\n",
       "4  0.04  3.162461  3.525505  120.580152"
      ]
     },
     "execution_count": 59,
     "metadata": {},
     "output_type": "execute_result"
    }
   ],
   "source": [
    "false_position(0, 3, 0.05, 5, f[3])"
   ]
  }
 ],
 "metadata": {
  "kernelspec": {
   "display_name": "Python 3.9.12 ('base')",
   "language": "python",
   "name": "python3"
  },
  "language_info": {
   "codemirror_mode": {
    "name": "ipython",
    "version": 3
   },
   "file_extension": ".py",
   "mimetype": "text/x-python",
   "name": "python",
   "nbconvert_exporter": "python",
   "pygments_lexer": "ipython3",
   "version": "3.9.12"
  },
  "orig_nbformat": 4,
  "vscode": {
   "interpreter": {
    "hash": "dd62c219f0f64c6bcbda77f88b0b8c52a89bde0996aff471810349fb86df7b3e"
   }
  }
 },
 "nbformat": 4,
 "nbformat_minor": 2
}
