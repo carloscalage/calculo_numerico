{
 "cells": [
  {
   "cell_type": "markdown",
   "metadata": {},
   "source": [
    "#### Imports"
   ]
  },
  {
   "cell_type": "code",
   "execution_count": 4,
   "metadata": {},
   "outputs": [],
   "source": [
    "from sympy import *\n",
    "import pandas as pd\n",
    "import matplotlib.pyplot as plt\n",
    "import numpy as np\n",
    "\n",
    "x_symbol = Symbol('x')"
   ]
  },
  {
   "cell_type": "markdown",
   "metadata": {},
   "source": [
    "#### Functions"
   ]
  },
  {
   "cell_type": "code",
   "execution_count": 40,
   "metadata": {},
   "outputs": [],
   "source": [
    "f = [\n",
    "  lambda x: np.power(x,10) - 1, \n",
    "  lambda x: np.exp(x) - 3 * x, \n",
    "  lambda x: np.power(x,3) - (9 * x) + 5,\n",
    "  lambda x: 2 * np.power(x,3) + (5 * np.power(x,2)) - (8 * x) - 1,\n",
    "  lambda x: 3 * np.power(x,2) - 9,\n",
    "  lambda x: np.power(x,3) - (9 * x) + 3,\n",
    "  lambda x: np.power(x,2) + x - 6\n",
    "  ]\n"
   ]
  },
  {
   "cell_type": "code",
   "execution_count": 39,
   "metadata": {},
   "outputs": [],
   "source": [
    "def f0(x):\n",
    "  return np.power(x,10) - 1\n",
    "\n",
    "def f1(x):\n",
    "  return np.exp(x) - 3 * x\n",
    "\n",
    "def f2(x):\n",
    "  return np.power(x,3) - (9 * x) + 5\n",
    "\n",
    "def f5(x):\n",
    "  return np.power(x,3) - (9 * x) + 3\n",
    "\n",
    "def f6(x):\n",
    "  return np.power(x,2) + x - 6"
   ]
  },
  {
   "cell_type": "markdown",
   "metadata": {},
   "source": [
    "##### Auxiliar Function"
   ]
  },
  {
   "cell_type": "code",
   "execution_count": 59,
   "metadata": {},
   "outputs": [],
   "source": [
    "def plot_func(f, x_min, x_max, n, points):\n",
    "  x = np.linspace(x_min, x_max, n)\n",
    "  y = np.array([f(i) for i in x])\n",
    "  plt.figure(dpi=120)\n",
    "  plt.plot(x, y)\n",
    "  plt.plot(points.iloc[:, 0], points.iloc[:, 1], 'ro')\n",
    "  plt.grid(True)\n",
    "  plt.show()\n",
    "\n",
    "def eval_derivate(f, x):\n",
    "  return float(diff(f(x_symbol), x_symbol).subs(x_symbol, x))"
   ]
  },
  {
   "cell_type": "markdown",
   "metadata": {},
   "source": [
    "#### Root-finding algorithms"
   ]
  },
  {
   "cell_type": "markdown",
   "metadata": {},
   "source": [
    "##### Bissection Method"
   ]
  },
  {
   "cell_type": "code",
   "execution_count": 2,
   "metadata": {},
   "outputs": [],
   "source": [
    "def bissec(a, b, precision, iterations, f):\n",
    "\n",
    "  if f(a) * f(b) >= 0:\n",
    "    print('Invalid interval')\n",
    "    return None\n",
    "  \n",
    "  k = 1\n",
    "  M = f(a)\n",
    "  x = (a + b) / 2\n",
    "\n",
    "  initial_data = {'a': a, 'b': b, 'x': x, 'f(x)': f(x), 'f(a)': M, 'f(a)*f(x)': f(a)*f(x)}\n",
    "  df = pd.DataFrame(initial_data, index=[1])\n",
    "\n",
    "  while k < iterations and abs(f(x)) > precision:\n",
    "    if M * f(x) > 0:\n",
    "      a = x\n",
    "      M = f(a)\n",
    "    else:\n",
    "      b = x\n",
    "\n",
    "    x = (a + b) / 2\n",
    "    df = df.append({'a': a, 'b': b, 'x': x, 'f(x)': f(x), 'f(a)': f(a), 'f(a)*f(x)': f(a)*f(x)}, ignore_index=True)\n",
    "\n",
    "    k += 1\n",
    "\n",
    "  print(f'Root: {round(x, 4)}, f(x): {round(f(x), 4)}, Iterations: {k}')\n",
    "\n",
    "  plot_func(f, df['a'][0], df['b'][0], 100, df[['x', 'f(x)']])\n",
    "\n",
    "  return df\n",
    "\n",
    " "
   ]
  },
  {
   "cell_type": "markdown",
   "metadata": {},
   "source": [
    "##### False Position Method"
   ]
  },
  {
   "cell_type": "code",
   "execution_count": 5,
   "metadata": {},
   "outputs": [],
   "source": [
    "def false_position(a, b, precision, iterations, f):\n",
    "\n",
    "  if f(a) * f(b) >= 0:\n",
    "    print('Invalid interval')\n",
    "    return None\n",
    "  \n",
    "  k = 1\n",
    "  M = f(a)\n",
    "  x = (a * f(b)) - (b * f(a)) / (f(b) - f(a))\n",
    "\n",
    "  initial_data = {'a': a, 'b': b, 'x': x, 'f(x)': f(x)}\n",
    "  df = pd.DataFrame(initial_data, index=[1])\n",
    "\n",
    "  while k < iterations and abs(f(x)) > precision:\n",
    "    if M * f(x) > 0:\n",
    "      a = x\n",
    "      M = f(a)\n",
    "    else:\n",
    "      b = x\n",
    "\n",
    "    x = a * f(b) - b * f(a) / (f(b) - f(a))\n",
    "    df = df.append({'a': a, 'b': b, 'x': x, 'f(x)': f(x)}, ignore_index=True)\n",
    "\n",
    "    k += 1\n",
    "  \n",
    "  print(f'Root: {round(x, 4)}, f(x): {round(f(x), 4)}, Iterations: {k}')\n",
    "\n",
    "  plot_func(f, df['a'][0], df['b'][0], 100, df[['x', 'f(x)']])\n",
    "  \n",
    "  return df"
   ]
  },
  {
   "cell_type": "markdown",
   "metadata": {},
   "source": [
    "##### Newton Raphson"
   ]
  },
  {
   "cell_type": "code",
   "execution_count": 135,
   "metadata": {},
   "outputs": [],
   "source": [
    "def newton_raphson(x0, precision, iterations, f, x_min, x_max):\n",
    "  initial_data = {'x(n)': x0, 'f(x(n))': f(x0)}\n",
    "  df = pd.DataFrame(initial_data, index=[1])\n",
    "  \n",
    "  if abs(f(x0)) < precision:\n",
    "    return df\n",
    "\n",
    "  x = x0 - f(x0) / eval_derivate(f, x0)\n",
    "  df = df.append({'x(n)': x, 'f(x(n))': f(x)}, ignore_index=True)\n",
    "\n",
    "  k = 1\n",
    "\n",
    "  while k < iterations and abs(f(x)) > precision:\n",
    "    x = x - f(x) / eval_derivate(f, x0)\n",
    "    df = df.append({'x(n)': x, 'f(x(n))': f(x)}, ignore_index=True)\n",
    "    k += 1\n",
    "  \n",
    "  print(f'Root: {round(x, 4)}, f(x): {round(f(x), 4)}, Iterations: {k}')\n",
    "\n",
    "  plot_func(f, x_min, x_max, 100, df.iloc[:, [0, 1]])\n",
    "  \n",
    "  return df"
   ]
  },
  {
   "cell_type": "code",
   "execution_count": 54,
   "metadata": {},
   "outputs": [],
   "source": [
    "def secant(x0, x1, precision, iterations, f, x_min, x_max):\n",
    "  initial_data = {'x(n)': x0, 'f(x(n))': f(x0)}\n",
    "\n",
    "  df = pd.DataFrame(initial_data, index=[1])\n",
    "  df = df.append({'x(n)': x1, 'f(x(n))': f(x1)}, ignore_index=True)\n",
    "  \n",
    "  if abs(f(x0)) < precision or abs(f(x1)) < precision:\n",
    "    return df\n",
    "\n",
    "  x = x1 - ((f(x1) * (x1 - x0)) / (f(x1) - f(x0)))\n",
    "\n",
    "  df = df.append({'x(n)': x, 'f(x(n))': f(x)}, ignore_index=True)\n",
    "\n",
    "  k = 1\n",
    "\n",
    "  while k < iterations and abs(f(x)) > precision:\n",
    "    x0 = x1\n",
    "    x1 = x\n",
    "\n",
    "    x = x1 - ((f(x1) * (x1 - x0)) / (f(x1) - f(x0)))\n",
    "    df = df.append({'x(n)': x, 'f(x(n))': f(x)}, ignore_index=True)\n",
    "    k += 1\n",
    "  \n",
    "  print(f'Root: {round(x, 4)}, f(x): {round(f(x), 4)}, Iterations: {k}')\n",
    "\n",
    "  plot_func(f, x_min, x_max, 100, df.iloc[:, [0, 1]])\n",
    "  \n",
    "  return df"
   ]
  },
  {
   "cell_type": "markdown",
   "metadata": {},
   "source": [
    "#### Results"
   ]
  },
  {
   "cell_type": "code",
   "execution_count": null,
   "metadata": {},
   "outputs": [],
   "source": [
    "bissec(0, 1, 0.01, 5, f[2])"
   ]
  },
  {
   "cell_type": "code",
   "execution_count": null,
   "metadata": {},
   "outputs": [],
   "source": [
    "newton_raphson(0.75, 0.01, 5, f5, 0.25, 0.75)"
   ]
  },
  {
   "cell_type": "code",
   "execution_count": 60,
   "metadata": {},
   "outputs": [
    {
     "name": "stdout",
     "output_type": "stream",
     "text": [
      "Root: 2.0, f(x): -0.0001, Iterations: 3\n"
     ]
    },
    {
     "data": {
      "image/png": "[encoded data removed]",
      "text/plain": [
       "<Figure size 720x480 with 1 Axes>"
      ]
     },
     "metadata": {
      "needs_background": "light"
     },
     "output_type": "display_data"
    },
    {
     "data": {
      "text/html": [
       "<div>\n",
       "<style scoped>\n",
       "    .dataframe tbody tr th:only-of-type {\n",
       "        vertical-align: middle;\n",
       "    }\n",
       "\n",
       "    .dataframe tbody tr th {\n",
       "        vertical-align: top;\n",
       "    }\n",
       "\n",
       "    .dataframe thead th {\n",
       "        text-align: right;\n",
       "    }\n",
       "</style>\n",
       "<table border=\"1\" class=\"dataframe\">\n",
       "  <thead>\n",
       "    <tr style=\"text-align: right;\">\n",
       "      <th></th>\n",
       "      <th>x(n)</th>\n",
       "      <th>f(x(n))</th>\n",
       "    </tr>\n",
       "  </thead>\n",
       "  <tbody>\n",
       "    <tr>\n",
       "      <th>0</th>\n",
       "      <td>1.500000</td>\n",
       "      <td>-2.250000</td>\n",
       "    </tr>\n",
       "    <tr>\n",
       "      <th>1</th>\n",
       "      <td>1.700000</td>\n",
       "      <td>-1.410000</td>\n",
       "    </tr>\n",
       "    <tr>\n",
       "      <th>2</th>\n",
       "      <td>2.035714</td>\n",
       "      <td>0.179847</td>\n",
       "    </tr>\n",
       "    <tr>\n",
       "      <th>3</th>\n",
       "      <td>1.997738</td>\n",
       "      <td>-0.011307</td>\n",
       "    </tr>\n",
       "    <tr>\n",
       "      <th>4</th>\n",
       "      <td>1.999984</td>\n",
       "      <td>-0.000080</td>\n",
       "    </tr>\n",
       "  </tbody>\n",
       "</table>\n",
       "</div>"
      ],
      "text/plain": [
       "       x(n)   f(x(n))\n",
       "0  1.500000 -2.250000\n",
       "1  1.700000 -1.410000\n",
       "2  2.035714  0.179847\n",
       "3  1.997738 -0.011307\n",
       "4  1.999984 -0.000080"
      ]
     },
     "execution_count": 60,
     "metadata": {},
     "output_type": "execute_result"
    }
   ],
   "source": [
    "secant(1.5, 1.7, 0.01, 5, f[6], 1.2, 2.25)"
   ]
  },
  {
   "cell_type": "code",
   "execution_count": 147,
   "metadata": {},
   "outputs": [
    {
     "name": "stdout",
     "output_type": "stream",
     "text": [
      "Root: -0.0002, Iterations: 4\n"
     ]
    },
    {
     "data": {
      "image/png": "[encoded data removed]",
      "text/plain": [
       "<Figure size 720x480 with 1 Axes>"
      ]
     },
     "metadata": {
      "needs_background": "light"
     },
     "output_type": "display_data"
    },
    {
     "data": {
      "text/html": [
       "<div>\n",
       "<style scoped>\n",
       "    .dataframe tbody tr th:only-of-type {\n",
       "        vertical-align: middle;\n",
       "    }\n",
       "\n",
       "    .dataframe tbody tr th {\n",
       "        vertical-align: top;\n",
       "    }\n",
       "\n",
       "    .dataframe thead th {\n",
       "        text-align: right;\n",
       "    }\n",
       "</style>\n",
       "<table border=\"1\" class=\"dataframe\">\n",
       "  <thead>\n",
       "    <tr style=\"text-align: right;\">\n",
       "      <th></th>\n",
       "      <th>a</th>\n",
       "      <th>b</th>\n",
       "      <th>x</th>\n",
       "      <th>f(x)</th>\n",
       "    </tr>\n",
       "  </thead>\n",
       "  <tbody>\n",
       "    <tr>\n",
       "      <th>0</th>\n",
       "      <td>0.0</td>\n",
       "      <td>1.000000</td>\n",
       "      <td>0.625000</td>\n",
       "      <td>-0.380859</td>\n",
       "    </tr>\n",
       "    <tr>\n",
       "      <th>1</th>\n",
       "      <td>0.0</td>\n",
       "      <td>0.625000</td>\n",
       "      <td>0.580762</td>\n",
       "      <td>-0.030978</td>\n",
       "    </tr>\n",
       "    <tr>\n",
       "      <th>2</th>\n",
       "      <td>0.0</td>\n",
       "      <td>0.580762</td>\n",
       "      <td>0.577186</td>\n",
       "      <td>-0.002390</td>\n",
       "    </tr>\n",
       "    <tr>\n",
       "      <th>3</th>\n",
       "      <td>0.0</td>\n",
       "      <td>0.577186</td>\n",
       "      <td>0.576910</td>\n",
       "      <td>-0.000184</td>\n",
       "    </tr>\n",
       "  </tbody>\n",
       "</table>\n",
       "</div>"
      ],
      "text/plain": [
       "     a         b         x      f(x)\n",
       "0  0.0  1.000000  0.625000 -0.380859\n",
       "1  0.0  0.625000  0.580762 -0.030978\n",
       "2  0.0  0.580762  0.577186 -0.002390\n",
       "3  0.0  0.577186  0.576910 -0.000184"
      ]
     },
     "execution_count": 147,
     "metadata": {},
     "output_type": "execute_result"
    }
   ],
   "source": [
    "false_position(0, 1, 0.0005, 5, f[2])"
   ]
  },
  {
   "cell_type": "code",
   "execution_count": 148,
   "metadata": {},
   "outputs": [
    {
     "name": "stdout",
     "output_type": "stream",
     "text": [
      "Root: 120.5802, Iterations: 5\n"
     ]
    },
    {
     "data": {
      "image/png": "[encoded data removed]",
      "text/plain": [
       "<Figure size 720x480 with 1 Axes>"
      ]
     },
     "metadata": {
      "needs_background": "light"
     },
     "output_type": "display_data"
    },
    {
     "data": {
      "text/html": [
       "<div>\n",
       "<style scoped>\n",
       "    .dataframe tbody tr th:only-of-type {\n",
       "        vertical-align: middle;\n",
       "    }\n",
       "\n",
       "    .dataframe tbody tr th {\n",
       "        vertical-align: top;\n",
       "    }\n",
       "\n",
       "    .dataframe thead th {\n",
       "        text-align: right;\n",
       "    }\n",
       "</style>\n",
       "<table border=\"1\" class=\"dataframe\">\n",
       "  <thead>\n",
       "    <tr style=\"text-align: right;\">\n",
       "      <th></th>\n",
       "      <th>a</th>\n",
       "      <th>b</th>\n",
       "      <th>x</th>\n",
       "      <th>f(x)</th>\n",
       "    </tr>\n",
       "  </thead>\n",
       "  <tbody>\n",
       "    <tr>\n",
       "      <th>0</th>\n",
       "      <td>0.00</td>\n",
       "      <td>3.000000</td>\n",
       "      <td>0.040000</td>\n",
       "      <td>-1.311872</td>\n",
       "    </tr>\n",
       "    <tr>\n",
       "      <th>1</th>\n",
       "      <td>0.04</td>\n",
       "      <td>3.000000</td>\n",
       "      <td>3.012258</td>\n",
       "      <td>74.935035</td>\n",
       "    </tr>\n",
       "    <tr>\n",
       "      <th>2</th>\n",
       "      <td>0.04</td>\n",
       "      <td>3.012258</td>\n",
       "      <td>3.049229</td>\n",
       "      <td>77.797386</td>\n",
       "    </tr>\n",
       "    <tr>\n",
       "      <th>3</th>\n",
       "      <td>0.04</td>\n",
       "      <td>3.049229</td>\n",
       "      <td>3.162461</td>\n",
       "      <td>86.962658</td>\n",
       "    </tr>\n",
       "    <tr>\n",
       "      <th>4</th>\n",
       "      <td>0.04</td>\n",
       "      <td>3.162461</td>\n",
       "      <td>3.525505</td>\n",
       "      <td>120.580152</td>\n",
       "    </tr>\n",
       "  </tbody>\n",
       "</table>\n",
       "</div>"
      ],
      "text/plain": [
       "      a         b         x        f(x)\n",
       "0  0.00  3.000000  0.040000   -1.311872\n",
       "1  0.04  3.000000  3.012258   74.935035\n",
       "2  0.04  3.012258  3.049229   77.797386\n",
       "3  0.04  3.049229  3.162461   86.962658\n",
       "4  0.04  3.162461  3.525505  120.580152"
      ]
     },
     "execution_count": 148,
     "metadata": {},
     "output_type": "execute_result"
    }
   ],
   "source": [
    "false_position(0, 3, 0.05, 5, f[3])"
   ]
  }
 ],
 "metadata": {
  "kernelspec": {
   "display_name": "Python 3.9.12 ('base')",
   "language": "python",
   "name": "python3"
  },
  "language_info": {
   "codemirror_mode": {
    "name": "ipython",
    "version": 3
   },
   "file_extension": ".py",
   "mimetype": "text/x-python",
   "name": "python",
   "nbconvert_exporter": "python",
   "pygments_lexer": "ipython3",
   "version": "3.9.12"
  },
  "orig_nbformat": 4,
  "vscode": {
   "interpreter": {
    "hash": "dd62c219f0f64c6bcbda77f88b0b8c52a89bde0996aff471810349fb86df7b3e"
   }
  }
 },
 "nbformat": 4,
 "nbformat_minor": 2
}
