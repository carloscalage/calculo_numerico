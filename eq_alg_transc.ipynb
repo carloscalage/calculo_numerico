{
 "cells": [
  {
   "cell_type": "markdown",
   "metadata": {},
   "source": [
    "#### Root-finding algorithms"
   ]
  },
  {
   "cell_type": "code",
   "execution_count": 33,
   "metadata": {},
   "outputs": [],
   "source": [
    "from sympy import *\n",
    "import pandas as pd\n",
    "import matplotlib.pyplot as plt\n",
    "import numpy as np"
   ]
  },
  {
   "cell_type": "markdown",
   "metadata": {},
   "source": [
    "##### Functions"
   ]
  },
  {
   "cell_type": "code",
   "execution_count": 34,
   "metadata": {},
   "outputs": [],
   "source": [
    "f = [\n",
    "  lambda x: np.power(x,10) - 1, \n",
    "  lambda x: np.exp(x) - 3 * x, \n",
    "  lambda x: np.power(x,3) - (9 * x) + 5\n",
    "  ]"
   ]
  },
  {
   "cell_type": "markdown",
   "metadata": {},
   "source": [
    "##### Bissection Method"
   ]
  },
  {
   "cell_type": "code",
   "execution_count": 48,
   "metadata": {},
   "outputs": [],
   "source": [
    "def bissec(a, b, precision, iterations, f):\n",
    "\n",
    "  if f(a) * f(b) >= 0:\n",
    "    print('Invalid interval')\n",
    "    return None\n",
    "  \n",
    "  k = 1\n",
    "  M = f(a)\n",
    "  x = (a + b) / 2\n",
    "\n",
    "  initial_data = {'a': a, 'b': b, 'x': x, 'f(x)': f(x), 'f(a)': M, 'f(a)*f(x)': f(a)*f(x)}\n",
    "  df = pd.DataFrame(initial_data, index=[1])\n",
    "\n",
    "  while k < iterations and abs(f(x)) > precision:\n",
    "    if M * f(x) > 0:\n",
    "      a = x\n",
    "      M = f(a)\n",
    "    else:\n",
    "      b = x\n",
    "\n",
    "    x = (a + b) / 2\n",
    "    df = df.append({'a': a, 'b': b, 'x': x, 'f(x)': f(x), 'f(a)': f(a), 'f(a)*f(x)': f(a)*f(x)}, ignore_index=True)\n",
    "\n",
    "    k += 1\n",
    "\n",
    "  print(f'Root: {round(f(x), 4)}, Iterations: {k}')\n",
    "  return df\n",
    "\n",
    " "
   ]
  },
  {
   "cell_type": "markdown",
   "metadata": {},
   "source": [
    "##### False Position Method"
   ]
  },
  {
   "cell_type": "code",
   "execution_count": 54,
   "metadata": {},
   "outputs": [],
   "source": [
    "def false_position(a, b, precision, iterations, f):\n",
    "\n",
    "  if f(a) * f(b) >= 0:\n",
    "    print('Invalid interval')\n",
    "    return None\n",
    "  \n",
    "  k = 1\n",
    "  M = f(a)\n",
    "  x = a * f(b) - b * f(a) / (f(b) - f(a))\n",
    "\n",
    "  initial_data = {'a': a, 'b': b, 'x': x, 'f(x)': f(x)}\n",
    "  df = pd.DataFrame(initial_data, index=[1])\n",
    "\n",
    "  while k < iterations and abs(f(x)) > precision:\n",
    "    if M * f(x) > 0:\n",
    "      a = x\n",
    "      M = f(a)\n",
    "    else:\n",
    "      b = x\n",
    "\n",
    "    x = a * f(b) - b * f(a) / (f(b) - f(a))\n",
    "    df = df.append({'a': a, 'b': b, 'x': x, 'f(x)': f(x)}, ignore_index=True)\n",
    "\n",
    "    k += 1\n",
    "  \n",
    "  print(f'Root: {round(f(x), 4)}, Iterations: {k}')\n",
    "  return df"
   ]
  },
  {
   "cell_type": "markdown",
   "metadata": {},
   "source": [
    "##### Results"
   ]
  },
  {
   "cell_type": "code",
   "execution_count": 50,
   "metadata": {},
   "outputs": [
    {
     "name": "stdout",
     "output_type": "stream",
     "text": [
      "Root: -0.0099, Iterations: 5\n"
     ]
    },
    {
     "data": {
      "text/html": [
       "<div>\n",
       "<style scoped>\n",
       "    .dataframe tbody tr th:only-of-type {\n",
       "        vertical-align: middle;\n",
       "    }\n",
       "\n",
       "    .dataframe tbody tr th {\n",
       "        vertical-align: top;\n",
       "    }\n",
       "\n",
       "    .dataframe thead th {\n",
       "        text-align: right;\n",
       "    }\n",
       "</style>\n",
       "<table border=\"1\" class=\"dataframe\">\n",
       "  <thead>\n",
       "    <tr style=\"text-align: right;\">\n",
       "      <th></th>\n",
       "      <th>a</th>\n",
       "      <th>b</th>\n",
       "      <th>x</th>\n",
       "      <th>f(x)</th>\n",
       "      <th>f(a)</th>\n",
       "      <th>f(a)*f(x)</th>\n",
       "    </tr>\n",
       "  </thead>\n",
       "  <tbody>\n",
       "    <tr>\n",
       "      <th>0</th>\n",
       "      <td>0.5000</td>\n",
       "      <td>1.00000</td>\n",
       "      <td>0.750000</td>\n",
       "      <td>-1.328125</td>\n",
       "      <td>0.625000</td>\n",
       "      <td>-0.830078</td>\n",
       "    </tr>\n",
       "    <tr>\n",
       "      <th>1</th>\n",
       "      <td>0.5000</td>\n",
       "      <td>0.75000</td>\n",
       "      <td>0.625000</td>\n",
       "      <td>-0.380859</td>\n",
       "      <td>0.625000</td>\n",
       "      <td>-0.238037</td>\n",
       "    </tr>\n",
       "    <tr>\n",
       "      <th>2</th>\n",
       "      <td>0.5000</td>\n",
       "      <td>0.62500</td>\n",
       "      <td>0.562500</td>\n",
       "      <td>0.115479</td>\n",
       "      <td>0.625000</td>\n",
       "      <td>0.072174</td>\n",
       "    </tr>\n",
       "    <tr>\n",
       "      <th>3</th>\n",
       "      <td>0.5625</td>\n",
       "      <td>0.62500</td>\n",
       "      <td>0.593750</td>\n",
       "      <td>-0.134430</td>\n",
       "      <td>0.115479</td>\n",
       "      <td>-0.015524</td>\n",
       "    </tr>\n",
       "    <tr>\n",
       "      <th>4</th>\n",
       "      <td>0.5625</td>\n",
       "      <td>0.59375</td>\n",
       "      <td>0.578125</td>\n",
       "      <td>-0.009899</td>\n",
       "      <td>0.115479</td>\n",
       "      <td>-0.001143</td>\n",
       "    </tr>\n",
       "  </tbody>\n",
       "</table>\n",
       "</div>"
      ],
      "text/plain": [
       "        a        b         x      f(x)      f(a)  f(a)*f(x)\n",
       "0  0.5000  1.00000  0.750000 -1.328125  0.625000  -0.830078\n",
       "1  0.5000  0.75000  0.625000 -0.380859  0.625000  -0.238037\n",
       "2  0.5000  0.62500  0.562500  0.115479  0.625000   0.072174\n",
       "3  0.5625  0.62500  0.593750 -0.134430  0.115479  -0.015524\n",
       "4  0.5625  0.59375  0.578125 -0.009899  0.115479  -0.001143"
      ]
     },
     "execution_count": 50,
     "metadata": {},
     "output_type": "execute_result"
    }
   ],
   "source": [
    "bissec(0.5, 1, 0.01, 5, f[2])"
   ]
  },
  {
   "cell_type": "code",
   "execution_count": 55,
   "metadata": {},
   "outputs": [
    {
     "name": "stdout",
     "output_type": "stream",
     "text": [
      "Root: -0.0002, Iterations: 4\n"
     ]
    },
    {
     "data": {
      "text/html": [
       "<div>\n",
       "<style scoped>\n",
       "    .dataframe tbody tr th:only-of-type {\n",
       "        vertical-align: middle;\n",
       "    }\n",
       "\n",
       "    .dataframe tbody tr th {\n",
       "        vertical-align: top;\n",
       "    }\n",
       "\n",
       "    .dataframe thead th {\n",
       "        text-align: right;\n",
       "    }\n",
       "</style>\n",
       "<table border=\"1\" class=\"dataframe\">\n",
       "  <thead>\n",
       "    <tr style=\"text-align: right;\">\n",
       "      <th></th>\n",
       "      <th>a</th>\n",
       "      <th>b</th>\n",
       "      <th>x</th>\n",
       "      <th>f(x)</th>\n",
       "    </tr>\n",
       "  </thead>\n",
       "  <tbody>\n",
       "    <tr>\n",
       "      <th>0</th>\n",
       "      <td>0.0</td>\n",
       "      <td>1.000000</td>\n",
       "      <td>0.625000</td>\n",
       "      <td>-0.380859</td>\n",
       "    </tr>\n",
       "    <tr>\n",
       "      <th>1</th>\n",
       "      <td>0.0</td>\n",
       "      <td>0.625000</td>\n",
       "      <td>0.580762</td>\n",
       "      <td>-0.030978</td>\n",
       "    </tr>\n",
       "    <tr>\n",
       "      <th>2</th>\n",
       "      <td>0.0</td>\n",
       "      <td>0.580762</td>\n",
       "      <td>0.577186</td>\n",
       "      <td>-0.002390</td>\n",
       "    </tr>\n",
       "    <tr>\n",
       "      <th>3</th>\n",
       "      <td>0.0</td>\n",
       "      <td>0.577186</td>\n",
       "      <td>0.576910</td>\n",
       "      <td>-0.000184</td>\n",
       "    </tr>\n",
       "  </tbody>\n",
       "</table>\n",
       "</div>"
      ],
      "text/plain": [
       "     a         b         x      f(x)\n",
       "0  0.0  1.000000  0.625000 -0.380859\n",
       "1  0.0  0.625000  0.580762 -0.030978\n",
       "2  0.0  0.580762  0.577186 -0.002390\n",
       "3  0.0  0.577186  0.576910 -0.000184"
      ]
     },
     "execution_count": 55,
     "metadata": {},
     "output_type": "execute_result"
    }
   ],
   "source": [
    "false_position(0, 1, 0.0005, 5, f[2])"
   ]
  }
 ],
 "metadata": {
  "kernelspec": {
   "display_name": "Python 3.9.12 ('base')",
   "language": "python",
   "name": "python3"
  },
  "language_info": {
   "codemirror_mode": {
    "name": "ipython",
    "version": 3
   },
   "file_extension": ".py",
   "mimetype": "text/x-python",
   "name": "python",
   "nbconvert_exporter": "python",
   "pygments_lexer": "ipython3",
   "version": "3.9.12"
  },
  "orig_nbformat": 4,
  "vscode": {
   "interpreter": {
    "hash": "dd62c219f0f64c6bcbda77f88b0b8c52a89bde0996aff471810349fb86df7b3e"
   }
  }
 },
 "nbformat": 4,
 "nbformat_minor": 2
}
