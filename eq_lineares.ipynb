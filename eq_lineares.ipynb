{
 "cells": [
  {
   "cell_type": "markdown",
   "metadata": {},
   "source": [
    "# Resolução de sistemas de equações lineares"
   ]
  },
  {
   "cell_type": "markdown",
   "metadata": {},
   "source": [
    "## Importações"
   ]
  },
  {
   "cell_type": "code",
   "execution_count": 1,
   "metadata": {},
   "outputs": [],
   "source": [
    "import numpy as np"
   ]
  },
  {
   "cell_type": "markdown",
   "metadata": {},
   "source": [
    "## Funções Auxiliares"
   ]
  },
  {
   "cell_type": "code",
   "execution_count": 2,
   "metadata": {},
   "outputs": [],
   "source": [
    "def pivoting_function(A, B, base, length):\n",
    "  # choose pivot\n",
    "  max = (abs(A[base, base]), base)\n",
    "  for row in range(base, length - 1):\n",
    "    if abs(A[row + 1, 0]) > max[0]:\n",
    "      max = (A[row + 1, 0], row + 1)\n",
    "\n",
    "  if max[0] != base:\n",
    "    aux = np.copy(A[base])\n",
    "    A[base] = A[max[1]]\n",
    "    A[max[1]] = aux\n",
    "\n",
    "    aux = np.copy(B[base])\n",
    "    B[base] = B[max[1]]\n",
    "    B[max[1]] = aux"
   ]
  },
  {
   "cell_type": "markdown",
   "metadata": {},
   "source": [
    "## Definições"
   ]
  },
  {
   "cell_type": "code",
   "execution_count": 3,
   "metadata": {},
   "outputs": [],
   "source": [
    "# Ex1\n",
    "\n",
    "A1 = np.array([\n",
    "          [0, 1, 3, 2, 4],\n",
    "          [8, 2, 9, -1, 2],\n",
    "          [5, 1, 1, 7, 2],\n",
    "          [-2, 4, 5, 1, 0],\n",
    "          [7, -3, 2, -4, 1]\n",
    "          ], dtype='float')  \n",
    "\n",
    "B1 = np.array([3, -5, 6, -1, 8], dtype='float')\n",
    "\n",
    "# Ex2\n",
    "\n",
    "A2 = np.array([\n",
    "          [2, 2, 1],\n",
    "          [3, 3, 2],\n",
    "          [3, 2, 1]\n",
    "          ], dtype='float')  \n",
    "          \n",
    "A3 = np.array([\n",
    "          [3, 2, 1],\n",
    "          [2, 2, 1],\n",
    "          [3, 3, 1]\n",
    "          ], dtype='float')  \n",
    "\n",
    "A4 = np.array([\n",
    "          [2, 1, 3],\n",
    "          [4, 3, 8],\n",
    "          [6, 7, 17]\n",
    "          ], dtype='float')  \n",
    "\n",
    "# Ex3\n",
    "\n",
    "A5 = np.array([\n",
    "          [1, 2, 0, -3, 3],\n",
    "          [2, 5, -1, 1, 4],\n",
    "          [-3, -1, 50, 1, -19],\n",
    "          [0, 1, 1, 6, 0],\n",
    "          [3, 4, -19, 0, 39]\n",
    "          ], dtype='float')  \n",
    "\n",
    "B5 = np.array([17, 41, -45, 30, 51], dtype='float')"
   ]
  },
  {
   "cell_type": "markdown",
   "metadata": {},
   "source": [
    "## Algoritmos"
   ]
  },
  {
   "cell_type": "markdown",
   "metadata": {},
   "source": [
    "### Eliminação de Gauss s/ Pivotamento"
   ]
  },
  {
   "cell_type": "code",
   "execution_count": 14,
   "metadata": {},
   "outputs": [],
   "source": [
    "def gauss_elimination(coeficients, constants, precision, pivoting=False, factors=False):\n",
    "  A = np.copy(coeficients)\n",
    "  B = np.copy(constants)\n",
    "  length = len(A) - 1\n",
    "\n",
    "  factors_list = np.identity(len(A), dtype='float')\n",
    "\n",
    "  # superior matrix\n",
    "  for base in range(length):\n",
    "    if pivoting:\n",
    "      pivoting_function(A, B, base, length)\n",
    "      \n",
    "    for row in range(base + 1, len(A)):\n",
    "      # pivot validation\n",
    "      if A[base, base] == 0 and not pivoting:\n",
    "        print('Não foi possível resolver o sistema, pivô nulo!')\n",
    "        print(f'linha: {base}, coluna: {base}')\n",
    "        return None\n",
    "\n",
    "      factor = A[row, base] / A[base, base]\n",
    "      factors_list[row, base] = factor\n",
    "      \n",
    "      A[row, base] = 0\n",
    "\n",
    "      for col in range(base + 1, len(A)):\n",
    "        A[row, col] = A[row, col] - factor * A[base, col]\n",
    "\n",
    "      B[row] = B[row] - (factor * B[base])\n",
    "\n",
    "  # resolution\n",
    "  x = np.zeros(len(A), dtype='float')\n",
    "  x[length] = B[length] / A[length, length]\n",
    "\n",
    "  for row in range(length, 0, -1):\n",
    "    s = 0\n",
    "    for col in range(row + 1, len(A)):\n",
    "      s = s + A[row, col] * x[col]\n",
    "      x[row] = (B[row] - s) / A[row, row]\n",
    "\n",
    "  #np.set_printoptions(precision=precision)\n",
    "\n",
    "  if factors:\n",
    "    return A, B, x, factors_list\n",
    "  else:\n",
    "    return A, B, x\n"
   ]
  },
  {
   "cell_type": "code",
   "execution_count": 5,
   "metadata": {},
   "outputs": [],
   "source": [
    "def lu_decomposition(coeficients):\n",
    "  A = np.copy(coeficients)\n",
    "  length = len(A) - 1\n",
    "\n",
    "  gauss = gauss_elimination(A, np.zeros(len(A), dtype='float'), 0, factors=True)\n",
    "  lower = gauss[0]\n",
    "  upper = gauss[3]\n",
    "\n",
    "  return lower, upper"
   ]
  },
  {
   "cell_type": "markdown",
   "metadata": {},
   "source": [
    "## Exercícios"
   ]
  },
  {
   "cell_type": "markdown",
   "metadata": {},
   "source": [
    "### Exercício 1 \n",
    "\n",
    "Resolva o SELA pelo método de Eliminação de Gauss sem pivotamento e com pivotamento parcial, retendo, durante as eliminações, cinco algarismos depois da vírgula. Compare os resultados. (A1, B1)"
   ]
  },
  {
   "cell_type": "code",
   "execution_count": 10,
   "metadata": {},
   "outputs": [
    {
     "name": "stdout",
     "output_type": "stream",
     "text": [
      "Não foi possível resolver o sistema, pivô nulo!\n",
      "linha: 0, coluna: 0\n"
     ]
    }
   ],
   "source": [
    "gauss_elimination(A1, B1, 5, pivoting=False)"
   ]
  },
  {
   "cell_type": "code",
   "execution_count": 16,
   "metadata": {},
   "outputs": [
    {
     "data": {
      "text/plain": [
       "(array([[  8.        ,   2.        ,   9.        ,  -1.        ,\n",
       "           2.        ],\n",
       "        [  0.        ,   1.        ,   3.        ,   2.        ,\n",
       "           4.        ],\n",
       "        [  0.        ,   0.        ,  -3.875     ,   8.125     ,\n",
       "           1.75      ],\n",
       "        [  0.        ,   0.        ,   0.        , -21.35483871,\n",
       "         -20.32258065],\n",
       "        [  0.        ,   0.        ,   0.        ,   0.        ,\n",
       "          -0.74622356]]),\n",
       " array([ -5.        ,   3.        ,   9.875     , -31.67741935,\n",
       "         12.46223565]),\n",
       " array([  0.        , -43.98380567,  26.34412955,  17.37651822,\n",
       "        -16.70040486]))"
      ]
     },
     "execution_count": 16,
     "metadata": {},
     "output_type": "execute_result"
    }
   ],
   "source": [
    "gauss_elimination(A1, B1, 5, pivoting=True)"
   ]
  },
  {
   "cell_type": "markdown",
   "metadata": {},
   "source": [
    "Podemos verificar que, com o sistema linear fornecido pelo exercício, podemos apenas resolver utilizando a eliminação de Gauss com pivotamento pois se enquadra exatamente em um das motivações para se utilizar o pivotamento, que seria o pivô escolhido, nesse caso o primeiro elemento da primeira coluna, acabar resultando em uma divisão por zero, o que inviabiliza a comparação das duas variações"
   ]
  },
  {
   "cell_type": "markdown",
   "metadata": {},
   "source": [
    "### Exercício 2\n",
    "\n",
    "Quais das matrizes (A2, A3, A4) podem ser decompostas na forma LU ? Decompor as que forem possíveis."
   ]
  }
 ],
 "metadata": {
  "kernelspec": {
   "display_name": "Python 3.9.12 ('base')",
   "language": "python",
   "name": "python3"
  },
  "language_info": {
   "codemirror_mode": {
    "name": "ipython",
    "version": 3
   },
   "file_extension": ".py",
   "mimetype": "text/x-python",
   "name": "python",
   "nbconvert_exporter": "python",
   "pygments_lexer": "ipython3",
   "version": "3.9.12"
  },
  "orig_nbformat": 4,
  "vscode": {
   "interpreter": {
    "hash": "dd62c219f0f64c6bcbda77f88b0b8c52a89bde0996aff471810349fb86df7b3e"
   }
  }
 },
 "nbformat": 4,
 "nbformat_minor": 2
}
