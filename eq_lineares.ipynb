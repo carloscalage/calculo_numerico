{
 "cells": [
  {
   "cell_type": "markdown",
   "metadata": {},
   "source": [
    "# Resolução de sistemas de equações lineares"
   ]
  },
  {
   "cell_type": "markdown",
   "metadata": {},
   "source": [
    "## Importações"
   ]
  },
  {
   "cell_type": "code",
   "execution_count": 2,
   "metadata": {},
   "outputs": [],
   "source": [
    "import numpy as np"
   ]
  },
  {
   "cell_type": "markdown",
   "metadata": {},
   "source": [
    "| 0 + x + 3x + 2x + 4x = 3 \n",
    "| 8x - 2x + 9x -x + 2x = -5 \n",
    "| 5x + x + x + 7x + 2x = 6\n",
    "| -2x + 4x + 5x + x + 0 = -1\n",
    "| 7x - 3x + 2x - 4x + x = 8"
   ]
  },
  {
   "cell_type": "markdown",
   "metadata": {},
   "source": [
    "## Definições"
   ]
  },
  {
   "cell_type": "code",
   "execution_count": 3,
   "metadata": {},
   "outputs": [],
   "source": [
    "matrix1 = np.array([\n",
    "          [0, 1, 3, 2, 4, 3],\n",
    "          [8, 2, 9, -1, 2, -5],\n",
    "          [5, 1, 1, 7, 2, 6],\n",
    "          [-2, 4, 5, 1, 0, -1],\n",
    "          [7, -3, 2, -4, 1, 8]\n",
    "          ], dtype='float')  \n",
    "\n",
    "A2 = np.array([\n",
    "          [1, 2, 4],\n",
    "          [3, 1, -1],\n",
    "          [3, 2, 1]\n",
    "          ], dtype='float')\n",
    "B2 = np.array([1, 2, 5])"
   ]
  },
  {
   "cell_type": "markdown",
   "metadata": {},
   "source": [
    "#### Eliminação de Gauss s/ Pivotamento"
   ]
  },
  {
   "cell_type": "code",
   "execution_count": 7,
   "metadata": {},
   "outputs": [],
   "source": [
    "def gauss_elimination(A, B):\n",
    "\n",
    "  if A[0, 0] == 0:\n",
    "    print('Não é possível resolver o sistema, pivô nulo!')\n",
    "    return None\n",
    "\n",
    "  # superior matrix\n",
    "  for base in range(len(A) - 1):\n",
    "    for row in range(base + 1, len(A)):\n",
    "      factor = A[row, base] / A[base, base]\n",
    "      A[row, base] = 0\n",
    "\n",
    "      for col in range(base + 1, len(A)):\n",
    "        A[row, col] = A[row, col] - factor * A[base, col]\n",
    "\n",
    "      B[row] = B[row] - factor * B[base]\n",
    "\n",
    "  # resolution\n",
    "  x = np.zeros(len(A), dtype='float')\n",
    "  x[len(A)] = B[len(A)] / A[len(A), len(A)]\n",
    "\n",
    "  for row in range(len(A) - 1, 0, -1):\n",
    "    for col in range(row + 1, len(A)):\n",
    "      x[row] = x[row] - A[row, col] * x[col]\n",
    "      x[row] = (B[row] - x[row]) / A[row, row]\n",
    "\n",
    "\n",
    "  return x\n"
   ]
  },
  {
   "cell_type": "code",
   "execution_count": 9,
   "metadata": {},
   "outputs": [
    {
     "data": {
      "text/plain": [
       "(array([[  1. ,   2. ,   4. ],\n",
       "        [  0. ,  -5. , -13. ],\n",
       "        [  0. ,   0. ,  -0.6]]),\n",
       " array([ 1, -1,  2]))"
      ]
     },
     "execution_count": 9,
     "metadata": {},
     "output_type": "execute_result"
    }
   ],
   "source": [
    "gauss_elimination(A2, B2)"
   ]
  }
 ],
 "metadata": {
  "kernelspec": {
   "display_name": "Python 3.9.12 ('base')",
   "language": "python",
   "name": "python3"
  },
  "language_info": {
   "codemirror_mode": {
    "name": "ipython",
    "version": 3
   },
   "file_extension": ".py",
   "mimetype": "text/x-python",
   "name": "python",
   "nbconvert_exporter": "python",
   "pygments_lexer": "ipython3",
   "version": "3.9.12"
  },
  "orig_nbformat": 4,
  "vscode": {
   "interpreter": {
    "hash": "dd62c219f0f64c6bcbda77f88b0b8c52a89bde0996aff471810349fb86df7b3e"
   }
  }
 },
 "nbformat": 4,
 "nbformat_minor": 2
}
