{
 "cells": [
  {
   "cell_type": "markdown",
   "metadata": {},
   "source": [
    "# Resolução de sistemas de equações lineares"
   ]
  },
  {
   "cell_type": "markdown",
   "metadata": {},
   "source": [
    "## Importações"
   ]
  },
  {
   "cell_type": "code",
   "execution_count": 1,
   "metadata": {},
   "outputs": [],
   "source": [
    "import numpy as np"
   ]
  },
  {
   "cell_type": "markdown",
   "metadata": {},
   "source": [
    "## Funções Auxiliares"
   ]
  },
  {
   "cell_type": "code",
   "execution_count": 2,
   "metadata": {},
   "outputs": [],
   "source": [
    "def pivoting_function(A, B, base, length):\n",
    "  # choose pivot\n",
    "  max = (abs(A[base, base]), base)\n",
    "  for row in range(base, length - 1):\n",
    "    if abs(A[row + 1, 0]) > max[0]:\n",
    "      max = (A[row + 1, 0], row + 1)\n",
    "\n",
    "  if max[0] != base:\n",
    "    aux = np.copy(A[base])\n",
    "    A[base] = A[max[1]]\n",
    "    A[max[1]] = aux\n",
    "\n",
    "    aux = np.copy(B[base])\n",
    "    B[base] = B[max[1]]\n",
    "    B[max[1]] = aux"
   ]
  },
  {
   "cell_type": "code",
   "execution_count": 96,
   "metadata": {},
   "outputs": [],
   "source": [
    "def unicity(matrix):\n",
    "  A = np.copy(matrix)\n",
    "  A_1 = np.array(A[0,0])\n",
    "  A_2 = np.delete(np.delete(A, 0, axis=1), 0, axis=0)\n",
    "\n",
    "  if np.linalg.det(A) != 0 and np.linalg.det(A_2) != 0:\n",
    "    return True\n",
    "\n",
    "  print(\"Sistema não tem solução única\")\n",
    "  print(\"Determinante da matriz é igual a 0\")\n",
    "  return False"
   ]
  },
  {
   "cell_type": "markdown",
   "metadata": {},
   "source": [
    "## Definições"
   ]
  },
  {
   "cell_type": "code",
   "execution_count": 106,
   "metadata": {},
   "outputs": [],
   "source": [
    "# Ex1\n",
    "\n",
    "A1 = np.array([\n",
    "          [0, 1, 3, 2, 4],\n",
    "          [8, 2, 9, -1, 2],\n",
    "          [5, 1, 1, 7, 2],\n",
    "          [-2, 4, 5, 1, 0],\n",
    "          [7, -3, 2, -4, 1]\n",
    "          ], dtype='float')  \n",
    "\n",
    "B1 = np.array([3, -5, 6, -1, 8], dtype='float')\n",
    "\n",
    "# Ex2\n",
    "\n",
    "A2 = np.array([\n",
    "          [2, 2, 1],\n",
    "          [3, 3, 2],\n",
    "          [3, 2, 1]\n",
    "          ], dtype='float')  \n",
    "          \n",
    "A3 = np.array([\n",
    "          [3, 2, 1],\n",
    "          [2, 2, 1],\n",
    "          [3, 3, 1]\n",
    "          ], dtype='float')  \n",
    "\n",
    "A4 = np.array([\n",
    "          [2, 1, 3],\n",
    "          [4, 3, 8],\n",
    "          [6, 7, 17]\n",
    "          ], dtype='float')  \n",
    "\n",
    "# Ex3\n",
    "\n",
    "A5 = np.array([\n",
    "          [1, 2, 0, -3, 3],\n",
    "          [2, 5, -1, 1, 4],\n",
    "          [-3, -1, 50, 1, -19],\n",
    "          [0, 1, 1, 6, 0],\n",
    "          [3, 4, -19, 0, 39]\n",
    "          ], dtype='float')  \n",
    "\n",
    "B5 = np.array([17, 41, -45, 30, 51], dtype='float')\n",
    "\n",
    "# Ex4\n",
    "\n",
    "A6 = np.array([\n",
    "          [1, -0.5, 0.5],\n",
    "          [1, 1, 1],\n",
    "          [-0.5, -0.5, 1]], \n",
    "          dtype='float')\n",
    "\n",
    "B6 = np.array([3, 12, 3], dtype='float')\n",
    "\n",
    "A7 = np.array([\n",
    "          [10, 2, -3, 5],\n",
    "          [1, 8, -1, 2],\n",
    "          [2, -1, -5, 1],\n",
    "          [-1, 2, 3, 20]],\n",
    "          dtype='float')\n",
    "\n",
    "B7 = np.array([48, 4, -11, 150], dtype='float')"
   ]
  },
  {
   "cell_type": "markdown",
   "metadata": {},
   "source": [
    "## Algoritmos"
   ]
  },
  {
   "cell_type": "markdown",
   "metadata": {},
   "source": [
    "### Eliminação de Gauss"
   ]
  },
  {
   "cell_type": "code",
   "execution_count": 75,
   "metadata": {},
   "outputs": [],
   "source": [
    "def gauss_elimination(coeficients, constants, precision=8, pivoting=False, factors=False):\n",
    "  A = np.copy(coeficients)\n",
    "  B = np.copy(constants)\n",
    "  length = len(A) - 1\n",
    "\n",
    "  factors_list = np.identity(len(A), dtype='float')\n",
    "\n",
    "  # superior matrix\n",
    "  for base in range(length):\n",
    "    if pivoting:\n",
    "      pivoting_function(A, B, base, length)\n",
    "      \n",
    "    for row in range(base + 1, len(A)):\n",
    "      # pivot validation\n",
    "      if A[base, base] == 0 and not pivoting:\n",
    "        print('Não foi possível montar a matriz superior, pivô nulo!')\n",
    "        print(f'linha: {base}, coluna: {base}')\n",
    "        return None\n",
    "\n",
    "      factor = A[row, base] / A[base, base]\n",
    "      factors_list[row, base] = factor\n",
    "      \n",
    "      A[row, base] = 0\n",
    "\n",
    "      for col in range(base + 1, len(A)):\n",
    "        A[row, col] = A[row, col] - factor * A[base, col]\n",
    "\n",
    "      B[row] = B[row] - (factor * B[base])\n",
    "\n",
    "  # resolution\n",
    "  x = np.zeros(len(A), dtype='float')\n",
    "\n",
    "  if A[length, length] == 0:\n",
    "    print('Não foi possível resolver o sistema, divisão por zero!')\n",
    "    print(f'linha: {length}, coluna: {length}')\n",
    "    return None\n",
    "\n",
    "  x[length] = B[length] / A[length, length]\n",
    "\n",
    "  for row in range(length, 0, -1):\n",
    "    s = 0\n",
    "    for col in range(row + 1, len(A)):\n",
    "      s = s + A[row, col] * x[col]\n",
    "      x[row] = (B[row] - s) / A[row, row]\n",
    "\n",
    "  np.set_printoptions(precision=precision)\n",
    "\n",
    "  if factors:\n",
    "    return A, B, x, factors_list\n",
    "  else:\n",
    "    return A, B, x\n"
   ]
  },
  {
   "cell_type": "markdown",
   "metadata": {},
   "source": [
    "### Fatoração LU"
   ]
  },
  {
   "cell_type": "code",
   "execution_count": 98,
   "metadata": {},
   "outputs": [],
   "source": [
    "def lu_decomposition(coeficients):\n",
    "  A = np.copy(coeficients)\n",
    "  length = len(A) - 1\n",
    "\n",
    "  if not unicity(A):\n",
    "    return None\n",
    "\n",
    "  gauss = gauss_elimination(A, np.zeros(len(A), dtype='float'), factors=True)\n",
    "\n",
    "  if(gauss == None):\n",
    "    return None\n",
    "    \n",
    "  lower = gauss[0]\n",
    "  upper = gauss[3]\n",
    "\n",
    "  return lower, upper"
   ]
  },
  {
   "cell_type": "markdown",
   "metadata": {},
   "source": [
    "### Fatoração de Cholesky"
   ]
  },
  {
   "cell_type": "code",
   "execution_count": 102,
   "metadata": {},
   "outputs": [],
   "source": [
    "def cholesky(coeficients, constants):\n",
    "  A = np.copy(coeficients)\n",
    "  B = np.copy(constants)\n",
    "\n",
    "  length = len(A) - 1\n",
    "\n",
    "  if not unicity(A):\n",
    "    return None"
   ]
  },
  {
   "cell_type": "markdown",
   "metadata": {},
   "source": [
    "### Jacobi"
   ]
  },
  {
   "cell_type": "code",
   "execution_count": 123,
   "metadata": {},
   "outputs": [],
   "source": [
    "def jacobi(coeficients, constants, precision=8, iterations=100):\n",
    "  A = np.copy(coeficients)\n",
    "  B = np.copy(constants)\n",
    "\n",
    "  x = np.zeros(len(A), dtype='float')\n",
    "  v = np.zeros(len(A), dtype='float')\n",
    "\n",
    "  np.set_printoptions(precision=5)\n",
    "\n",
    "  for i in range(len(A) - 1):\n",
    "    x[i] = B[i] / A[i, i]\n",
    "\n",
    "  iter = 0\n",
    "  \n",
    "  while True:\n",
    "    iter += 1\n",
    "    \n",
    "    for i in range(len(A) - 1):\n",
    "      sum = 0\n",
    "\n",
    "      for j in range(len(A) - 1):\n",
    "        if i != j:\n",
    "          sum += A[i, j] * x[j]\n",
    "      \n",
    "      v[i] = (B[i] - sum) / A[i, i]\n",
    "\n",
    "    norma_num = 0\n",
    "    norma_den = 0\n",
    "\n",
    "    for i in range(len(A) - 1):\n",
    "      t = abs(v[i] - x[i])\n",
    "\n",
    "      if t > norma_num:\n",
    "        norma_num = t\n",
    "\n",
    "      if abs(v[i]) > norma_den:\n",
    "        norma_den = abs(v[i])\n",
    "      \n",
    "      x[i] = v[i]\n",
    "\n",
    "    norma_rel = norma_num / norma_den\n",
    "\n",
    "    print(iter, x)\n",
    "\n",
    "    if norma_rel < precision or iter > 100:\n",
    "      break\n",
    "\n",
    "  if norma_rel <= precision:\n",
    "    info = 0\n",
    "  else:\n",
    "    info = 1\n",
    "    \n",
    "  return x, iter, info"
   ]
  },
  {
   "cell_type": "markdown",
   "metadata": {},
   "source": [
    "## Exercícios"
   ]
  },
  {
   "cell_type": "markdown",
   "metadata": {},
   "source": [
    "### Exercício 1 \n",
    "\n",
    "Resolva o SELA pelo método de Eliminação de Gauss sem pivotamento e com pivotamento parcial, retendo, durante as eliminações, cinco algarismos depois da vírgula. Compare os resultados. (A1, B1)"
   ]
  },
  {
   "cell_type": "code",
   "execution_count": 10,
   "metadata": {},
   "outputs": [
    {
     "name": "stdout",
     "output_type": "stream",
     "text": [
      "Não foi possível resolver o sistema, pivô nulo!\n",
      "linha: 0, coluna: 0\n"
     ]
    }
   ],
   "source": [
    "gauss_elimination(A1, B1, precision=5, pivoting=False)"
   ]
  },
  {
   "cell_type": "code",
   "execution_count": 64,
   "metadata": {},
   "outputs": [
    {
     "data": {
      "text/plain": [
       "(array([[  8.     ,   2.     ,   9.     ,  -1.     ,   2.     ],\n",
       "        [  0.     ,   1.     ,   3.     ,   2.     ,   4.     ],\n",
       "        [  0.     ,   0.     ,  -3.875  ,   8.125  ,   1.75   ],\n",
       "        [  0.     ,   0.     ,   0.     , -21.35484, -20.32258],\n",
       "        [  0.     ,   0.     ,   0.     ,   0.     ,  -0.74622]]),\n",
       " array([ -5.     ,   3.     ,   9.875  , -31.67742,  12.46224]),\n",
       " array([  0.     , -43.98381,  26.34413,  17.37652, -16.7004 ]))"
      ]
     },
     "execution_count": 64,
     "metadata": {},
     "output_type": "execute_result"
    }
   ],
   "source": [
    "gauss_elimination(A1, B1, precision=5, pivoting=True)"
   ]
  },
  {
   "cell_type": "markdown",
   "metadata": {},
   "source": [
    "#### Conclusão\n",
    "\n",
    "Podemos verificar que, com o sistema linear fornecido pelo exercício, podemos apenas resolver utilizando a eliminação de Gauss com pivotamento pois se enquadra exatamente em um das motivações para se utilizar o pivotamento, que seria o pivô escolhido, nesse caso o primeiro elemento da primeira coluna, acabar resultando em uma divisão por zero, o que inviabiliza a comparação das duas variações"
   ]
  },
  {
   "cell_type": "markdown",
   "metadata": {},
   "source": [
    "### Exercício 2\n",
    "\n",
    "Quais das matrizes (A2, A3, A4) podem ser decompostas na forma LU ? Decompor as que forem possíveis."
   ]
  },
  {
   "cell_type": "code",
   "execution_count": 100,
   "metadata": {},
   "outputs": [
    {
     "name": "stdout",
     "output_type": "stream",
     "text": [
      "Não foi possível montar a matriz superior, pivô nulo!\n",
      "linha: 1, coluna: 1\n"
     ]
    }
   ],
   "source": [
    "lu_decomposition(A2)"
   ]
  },
  {
   "cell_type": "code",
   "execution_count": 99,
   "metadata": {},
   "outputs": [
    {
     "data": {
      "text/plain": [
       "(array([[ 3.        ,  2.        ,  1.        ],\n",
       "        [ 0.        ,  0.66666667,  0.33333333],\n",
       "        [ 0.        ,  0.        , -0.5       ]]),\n",
       " array([[1.        , 0.        , 0.        ],\n",
       "        [0.66666667, 1.        , 0.        ],\n",
       "        [1.        , 1.5       , 1.        ]]))"
      ]
     },
     "execution_count": 99,
     "metadata": {},
     "output_type": "execute_result"
    }
   ],
   "source": [
    "lu_decomposition(A3)"
   ]
  },
  {
   "cell_type": "code",
   "execution_count": 101,
   "metadata": {},
   "outputs": [
    {
     "name": "stdout",
     "output_type": "stream",
     "text": [
      "Não foi possível resolver o sistema, divisão por zero!\n",
      "linha: 2, coluna: 2\n"
     ]
    }
   ],
   "source": [
    "lu_decomposition(A4)"
   ]
  },
  {
   "cell_type": "markdown",
   "metadata": {},
   "source": [
    "#### Conclusão\n",
    "\n",
    "Utilizando o método de decomposição LU com passos intermediários da eliminação de Gauss sem pivotamento, foi possível decompor apenas a matriz B (A3), pois na matriz A (A2), tivemos uma divisão por zero no momento da montagem da matriz superior e na matriz C (A4) também houve divisão por zero, porém no momento da resolução do sistema."
   ]
  },
  {
   "cell_type": "markdown",
   "metadata": {},
   "source": [
    "### Exercício 3\n",
    "\n",
    "Resolva o SELA pelo método de Fatoração de Cholesky, retendo, durante as eliminações, cinco algarismos depois da vírgula."
   ]
  },
  {
   "cell_type": "markdown",
   "metadata": {},
   "source": [
    "### Exercício 4\n",
    "\n",
    "Resolva-os usando os métodos de Gauss-Jacobi e Gauss-Seidel e verifique a convergência dos métodos. Justifique os resultados obtidos."
   ]
  },
  {
   "cell_type": "code",
   "execution_count": 127,
   "metadata": {},
   "outputs": [
    {
     "name": "stdout",
     "output_type": "stream",
     "text": [
      "1 [9. 9. 0.]\n",
      "2 [7.5 3.  0. ]\n",
      "3 [4.5 4.5 0. ]\n",
      "4 [5.25 7.5  0.  ]\n",
      "5 [6.75 6.75 0.  ]\n",
      "6 [6.375 5.25  0.   ]\n",
      "7 [5.625 5.625 0.   ]\n",
      "8 [5.8125 6.375  0.    ]\n",
      "9 [6.1875 6.1875 0.    ]\n",
      "10 [6.09375 5.8125  0.     ]\n",
      "11 [5.90625 5.90625 0.     ]\n",
      "12 [5.95312 6.09375 0.     ]\n",
      "13 [6.04688 6.04688 0.     ]\n",
      "14 [6.02344 5.95312 0.     ]\n",
      "15 [5.97656 5.97656 0.     ]\n"
     ]
    },
    {
     "data": {
      "text/plain": [
       "(array([5.97656, 5.97656, 0.     ]), 15, 0)"
      ]
     },
     "execution_count": 127,
     "metadata": {},
     "output_type": "execute_result"
    }
   ],
   "source": [
    "jacobi(A6, B6, precision=0.01, iterations=5)"
   ]
  }
 ],
 "metadata": {
  "kernelspec": {
   "display_name": "Python 3.9.12 ('base')",
   "language": "python",
   "name": "python3"
  },
  "language_info": {
   "codemirror_mode": {
    "name": "ipython",
    "version": 3
   },
   "file_extension": ".py",
   "mimetype": "text/x-python",
   "name": "python",
   "nbconvert_exporter": "python",
   "pygments_lexer": "ipython3",
   "version": "3.9.12"
  },
  "orig_nbformat": 4,
  "vscode": {
   "interpreter": {
    "hash": "dd62c219f0f64c6bcbda77f88b0b8c52a89bde0996aff471810349fb86df7b3e"
   }
  }
 },
 "nbformat": 4,
 "nbformat_minor": 2
}
