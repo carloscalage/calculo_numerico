{
 "cells": [
  {
   "cell_type": "markdown",
   "metadata": {},
   "source": [
    "# Resolução de sistemas de equações lineares"
   ]
  },
  {
   "cell_type": "markdown",
   "metadata": {},
   "source": [
    "## Importações"
   ]
  },
  {
   "cell_type": "code",
   "execution_count": 2,
   "metadata": {},
   "outputs": [],
   "source": [
    "import numpy as np"
   ]
  },
  {
   "cell_type": "markdown",
   "metadata": {},
   "source": [
    "## Definições"
   ]
  },
  {
   "cell_type": "code",
   "execution_count": 131,
   "metadata": {},
   "outputs": [],
   "source": [
    "A1 = np.array([\n",
    "          [0, 1, 3, 2, 4],\n",
    "          [8, 2, 9, -1, 2],\n",
    "          [5, 1, 1, 7, 2],\n",
    "          [-2, 4, 5, 1, 0],\n",
    "          [7, -3, 2, -4, 1]\n",
    "          ], dtype='float')  \n",
    "\n",
    "B1 = np.array([3, -5, 6, -1, 8], dtype='float')\n",
    "\n",
    "A2 = np.array([\n",
    "          [1, 2, 4],\n",
    "          [3, 1, -1],\n",
    "          [3, 2, 1]\n",
    "          ], dtype='float')\n",
    "          \n",
    "B2 = np.array([1, 2, 5], dtype='float')"
   ]
  },
  {
   "cell_type": "markdown",
   "metadata": {},
   "source": [
    "## Algoritmos"
   ]
  },
  {
   "cell_type": "markdown",
   "metadata": {},
   "source": [
    "### Eliminação de Gauss s/ Pivotamento"
   ]
  },
  {
   "cell_type": "code",
   "execution_count": 98,
   "metadata": {},
   "outputs": [],
   "source": [
    "def gauss_elimination(coeficients, constants):\n",
    "  A = np.copy(coeficients)\n",
    "  B = np.copy(constants)\n",
    "  length = len(A) - 1\n",
    "\n",
    "  if A[0, 0] == 0:\n",
    "    print('Não é possível resolver o sistema, pivô nulo!')\n",
    "    return None\n",
    "\n",
    "  # superior matrix\n",
    "  for base in range(length):\n",
    "    for row in range(base + 1, len(A)):\n",
    "      factor = A[row, base] / A[base, base]\n",
    "      A[row, base] = 0\n",
    "\n",
    "      for col in range(base + 1, len(A)):\n",
    "        A[row, col] = A[row, col] - factor * A[base, col]\n",
    "\n",
    "      B[row] = B[row] - (factor * B[base])\n",
    "\n",
    "  # resolution\n",
    "  x = np.zeros(len(A), dtype='float')\n",
    "  x[length] = B[length] / A[length, length]\n",
    "\n",
    "  for row in range(length, 0, -1):\n",
    "    s = 0\n",
    "    for col in range(row + 1, len(A)):\n",
    "      s = s + A[row, col] * x[col]\n",
    "      x[row] = (B[row] - s) / A[row, row]\n",
    "\n",
    "  return A, B, x\n"
   ]
  },
  {
   "cell_type": "markdown",
   "metadata": {},
   "source": [
    "### Eliminação de Gauss Com Pivotamento"
   ]
  },
  {
   "cell_type": "code",
   "execution_count": 127,
   "metadata": {},
   "outputs": [],
   "source": [
    "def gauss_elimination_pivoting(coeficients, constants):\n",
    "  A = np.copy(coeficients)\n",
    "  B = np.copy(constants)\n",
    "  length = len(A) - 1\n",
    "\n",
    "  # superior matrix\n",
    "  for base in range(length):\n",
    "    # choose pivot\n",
    "    max = (abs(A[base, base]), base)\n",
    "    for row in range(base, length - 1):\n",
    "      if abs(A[row + 1, 0]) > max[0]:\n",
    "        max = (A[row + 1, 0], row + 1)\n",
    "\n",
    "    if max[0] != base:\n",
    "      aux = np.copy(A[base])\n",
    "      A[base] = A[max[1]]\n",
    "      A[max[1]] = aux\n",
    "\n",
    "      aux = np.copy(B[base])\n",
    "      B[base] = B[max[1]]\n",
    "      B[max[1]] = aux\n",
    "\n",
    "    for row in range(base + 1, len(A)):\n",
    "      factor = A[row, base] / A[base, base]\n",
    "      A[row, base] = 0\n",
    "\n",
    "      for col in range(base + 1, len(A)):\n",
    "        A[row, col] = A[row, col] - factor * A[base, col]\n",
    "\n",
    "      B[row] = B[row] - (factor * B[base])\n",
    "\n",
    "  # resolution\n",
    "  x = np.zeros(len(A), dtype='float')\n",
    "  x[length] = B[length] / A[length, length]\n",
    "\n",
    "  for row in range(length, 0, -1):\n",
    "    s = 0\n",
    "    for col in range(row + 1, len(A)):\n",
    "      s = s + A[row, col] * x[col]\n",
    "      x[row] = (B[row] - s) / A[row, row]\n",
    "\n",
    "  return A, B, x"
   ]
  },
  {
   "cell_type": "markdown",
   "metadata": {},
   "source": [
    "## Exercícios"
   ]
  },
  {
   "cell_type": "code",
   "execution_count": 132,
   "metadata": {},
   "outputs": [
    {
     "name": "stdout",
     "output_type": "stream",
     "text": [
      "[[ 8.  2.  9. -1.  2.]\n",
      " [ 0.  1.  3.  2.  4.]\n",
      " [ 5.  1.  1.  7.  2.]\n",
      " [-2.  4.  5.  1.  0.]\n",
      " [ 7. -3.  2. -4.  1.]]\n",
      "[[ 8.     2.     9.    -1.     2.   ]\n",
      " [ 0.     1.     3.     2.     4.   ]\n",
      " [ 0.    -0.25  -4.625  7.625  0.75 ]\n",
      " [ 0.     4.5    7.25   0.75   0.5  ]\n",
      " [ 0.    -4.75  -5.875 -3.125 -0.75 ]]\n",
      "[[  8.      2.      9.     -1.      2.   ]\n",
      " [  0.      1.      3.      2.      4.   ]\n",
      " [  0.      0.     -3.875   8.125   1.75 ]\n",
      " [  0.      0.     -6.25   -8.25  -17.5  ]\n",
      " [  0.      0.      8.375   6.375  18.25 ]]\n",
      "[[  8.           2.           9.          -1.           2.        ]\n",
      " [  0.           1.           3.           2.           4.        ]\n",
      " [  0.           0.          -3.875        8.125        1.75      ]\n",
      " [  0.           0.           0.         -21.35483871 -20.32258065]\n",
      " [  0.           0.           0.          23.93548387  22.03225806]]\n"
     ]
    },
    {
     "data": {
      "text/plain": [
       "(array([[  8.        ,   2.        ,   9.        ,  -1.        ,\n",
       "           2.        ],\n",
       "        [  0.        ,   1.        ,   3.        ,   2.        ,\n",
       "           4.        ],\n",
       "        [  0.        ,   0.        ,  -3.875     ,   8.125     ,\n",
       "           1.75      ],\n",
       "        [  0.        ,   0.        ,   0.        , -21.35483871,\n",
       "         -20.32258065],\n",
       "        [  0.        ,   0.        ,   0.        ,   0.        ,\n",
       "          -0.74622356]]),\n",
       " array([ -5.        ,   3.        ,   9.875     , -31.67741935,\n",
       "         12.46223565]),\n",
       " array([  0.        , -43.98380567,  26.34412955,  17.37651822,\n",
       "        -16.70040486]))"
      ]
     },
     "execution_count": 132,
     "metadata": {},
     "output_type": "execute_result"
    }
   ],
   "source": [
    "gauss_elimination_pivoting(A1, B1)"
   ]
  }
 ],
 "metadata": {
  "kernelspec": {
   "display_name": "Python 3.9.12 ('base')",
   "language": "python",
   "name": "python3"
  },
  "language_info": {
   "codemirror_mode": {
    "name": "ipython",
    "version": 3
   },
   "file_extension": ".py",
   "mimetype": "text/x-python",
   "name": "python",
   "nbconvert_exporter": "python",
   "pygments_lexer": "ipython3",
   "version": "3.9.12"
  },
  "orig_nbformat": 4,
  "vscode": {
   "interpreter": {
    "hash": "dd62c219f0f64c6bcbda77f88b0b8c52a89bde0996aff471810349fb86df7b3e"
   }
  }
 },
 "nbformat": 4,
 "nbformat_minor": 2
}
