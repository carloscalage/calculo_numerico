{
 "cells": [
  {
   "cell_type": "markdown",
   "metadata": {},
   "source": [
    "# Imports"
   ]
  },
  {
   "cell_type": "code",
   "execution_count": 53,
   "metadata": {},
   "outputs": [],
   "source": [
    "import sympy as sp\n",
    "import numpy as np"
   ]
  },
  {
   "cell_type": "markdown",
   "metadata": {},
   "source": [
    "## Definições"
   ]
  },
  {
   "cell_type": "code",
   "execution_count": 10,
   "metadata": {},
   "outputs": [],
   "source": [
    "X = sp.Symbol('x')\n",
    "Y = sp.Symbol('y')"
   ]
  },
  {
   "cell_type": "markdown",
   "metadata": {},
   "source": [
    "## Funções"
   ]
  },
  {
   "cell_type": "code",
   "execution_count": 47,
   "metadata": {},
   "outputs": [],
   "source": [
    "def lagrange(x: list, y: list, solve: bool, value: float = 0):\n",
    "    form = 0\n",
    "\n",
    "    for i in range(len(x)):\n",
    "\n",
    "        product = y[i]\n",
    "\n",
    "        for j in range(len(x)):\n",
    "            if i != j:\n",
    "                product *= (X - x[j]) / (x[i] - x[j])\n",
    "\n",
    "        form += product\n",
    "    \n",
    "    if solve:\n",
    "        return form.subs(X, value)\n",
    "    else:\n",
    "        return sp.simplify(form)"
   ]
  },
  {
   "cell_type": "code",
   "execution_count": 101,
   "metadata": {},
   "outputs": [],
   "source": [
    "def newton(x: list, y: list, solve: bool, value: float = 0):\n",
    "  n = len(x)\n",
    "\n",
    "  \"\"\" tabela de diferenças divididas \"\"\"\n",
    "  fdd = np.full((n, n), None)\n",
    "\n",
    "  \"\"\" preenchimento primeira coluna com os valores de y \"\"\"\n",
    "  for i in range(n):\n",
    "    fdd[i][0] = y[i]\n",
    "\n",
    "  \"\"\" preenchimento das demais colunas \"\"\"\n",
    "  for order in range(1, n):\n",
    "    for row in range(n - order): \n",
    "      fdd[row][order] = (fdd[row + 1][order - 1] - fdd[row][order - 1]) / (x[row + order] - x[row])\n",
    "  \n",
    "  \"\"\" calculo do valor de p(x) \"\"\"\n",
    "  sum = fdd[0][0]\n",
    "  xterm = 1\n",
    "\n",
    "  for order in range(1, n):\n",
    "    xterm *= (X - x[order - 1])\n",
    "    sum += fdd[0][order] * xterm\n",
    "\n",
    "  if solve:\n",
    "    return sum.subs(X, value)\n",
    "  else:\n",
    "    return sp.simplify(sum)"
   ]
  },
  {
   "cell_type": "markdown",
   "metadata": {},
   "source": [
    "## Exercícios Propostos"
   ]
  },
  {
   "cell_type": "markdown",
   "metadata": {},
   "source": [
    "1) Encontre o polinômio que interpola o conjunto de pontos a seguir utilizando o Método de Lagrange."
   ]
  },
  {
   "cell_type": "code",
   "execution_count": null,
   "metadata": {},
   "outputs": [],
   "source": [
    "ex1 = [[3, 7, 1, 2], [12, 146, 2, 1]]"
   ]
  },
  {
   "cell_type": "code",
   "execution_count": 50,
   "metadata": {},
   "outputs": [
    {
     "data": {
      "text/latex": [
       "$\\displaystyle - \\frac{x^{3}}{4} + \\frac{15 x^{2}}{2} - \\frac{87 x}{4} + \\frac{33}{2}$"
      ],
      "text/plain": [
       "-x**3/4 + 15*x**2/2 - 87*x/4 + 33/2"
      ]
     },
     "execution_count": 50,
     "metadata": {},
     "output_type": "execute_result"
    }
   ],
   "source": [
    "lagrange(ex1[0], ex1[1], False)"
   ]
  },
  {
   "cell_type": "markdown",
   "metadata": {},
   "source": [
    "2) Encontre o polinômio que interpola o conjunto de pontos a seguir utilizando o Método de Newton."
   ]
  },
  {
   "cell_type": "code",
   "execution_count": 70,
   "metadata": {},
   "outputs": [],
   "source": [
    "ex2 = [[-1, 0, 1, 2, 3], [2, 1, 4, -7, 20]]"
   ]
  },
  {
   "cell_type": "code",
   "execution_count": 103,
   "metadata": {},
   "outputs": [
    {
     "data": {
      "text/plain": [
       "1.0"
      ]
     },
     "execution_count": 103,
     "metadata": {},
     "output_type": "execute_result"
    }
   ],
   "source": [
    "newton(ex2[0], ex2[1], False)"
   ]
  }
 ],
 "metadata": {
  "kernelspec": {
   "display_name": "Python 3.9.12 ('base')",
   "language": "python",
   "name": "python3"
  },
  "language_info": {
   "codemirror_mode": {
    "name": "ipython",
    "version": 3
   },
   "file_extension": ".py",
   "mimetype": "text/x-python",
   "name": "python",
   "nbconvert_exporter": "python",
   "pygments_lexer": "ipython3",
   "version": "3.9.12"
  },
  "orig_nbformat": 4,
  "vscode": {
   "interpreter": {
    "hash": "da980a8ceded168c05c950db9fb98093b2684142ab08886b8c4b26f88258a035"
   }
  }
 },
 "nbformat": 4,
 "nbformat_minor": 2
}
