{
 "cells": [
  {
   "cell_type": "markdown",
   "metadata": {},
   "source": [
    "# Imports"
   ]
  },
  {
   "cell_type": "code",
   "execution_count": 106,
   "metadata": {},
   "outputs": [],
   "source": [
    "import sympy as sp\n",
    "import numpy as np"
   ]
  },
  {
   "cell_type": "markdown",
   "metadata": {},
   "source": [
    "## Definições"
   ]
  },
  {
   "cell_type": "code",
   "execution_count": 107,
   "metadata": {},
   "outputs": [],
   "source": [
    "X = sp.Symbol('x')\n",
    "Y = sp.Symbol('y')"
   ]
  },
  {
   "cell_type": "markdown",
   "metadata": {},
   "source": [
    "## Funções"
   ]
  },
  {
   "cell_type": "code",
   "execution_count": 108,
   "metadata": {},
   "outputs": [],
   "source": [
    "def lagrange(x: list, y: list, n: int, solve: bool, value: float = 0):\n",
    "    form = 0\n",
    "\n",
    "    for i in range(n):\n",
    "\n",
    "        product = y[i]\n",
    "\n",
    "        for j in range(n):\n",
    "            if i != j:\n",
    "                product *= (X - x[j]) / (x[i] - x[j])\n",
    "\n",
    "        form += product\n",
    "    \n",
    "    if solve:\n",
    "        return form.subs(X, value)\n",
    "    else:\n",
    "        return sp.simplify(form)"
   ]
  },
  {
   "cell_type": "code",
   "execution_count": 109,
   "metadata": {},
   "outputs": [],
   "source": [
    "def newton(x: list, y: list, n: int, solve: bool, value: float = 0):\n",
    "\n",
    "  \"\"\" tabela de diferenças divididas \"\"\"\n",
    "  fdd = np.full((n, n), None)\n",
    "\n",
    "  \"\"\" preenchimento primeira coluna com os valores de y \"\"\"\n",
    "  for i in range(n):\n",
    "    fdd[i][0] = y[i]\n",
    "\n",
    "  \"\"\" preenchimento das demais colunas \"\"\"\n",
    "  for order in range(1, n):\n",
    "    for row in range(n - order): \n",
    "      fdd[row][order] = (fdd[row + 1][order - 1] - fdd[row][order - 1]) / (x[row + order] - x[row])\n",
    "  \n",
    "  \"\"\" calculo do valor de p(x) \"\"\"\n",
    "  sum = fdd[0][0]\n",
    "  xterm = 1\n",
    "\n",
    "  for order in range(1, n):\n",
    "    xterm *= (X - x[order - 1])\n",
    "    sum += fdd[0][order] * xterm\n",
    "\n",
    "  if solve:\n",
    "    return sum.subs(X, value)\n",
    "  else:\n",
    "    return sp.simplify(sum)"
   ]
  },
  {
   "cell_type": "markdown",
   "metadata": {},
   "source": [
    "## Exercícios Propostos"
   ]
  },
  {
   "cell_type": "markdown",
   "metadata": {},
   "source": [
    "#### 1) Encontre o polinômio que interpola o conjunto de pontos a seguir utilizando o Método de Lagrange."
   ]
  },
  {
   "cell_type": "code",
   "execution_count": 110,
   "metadata": {},
   "outputs": [],
   "source": [
    "ex1 = [\n",
    "  [3, 7, 1, 2], \n",
    "  [12, 146, 2, 1]\n",
    "  ]"
   ]
  },
  {
   "cell_type": "code",
   "execution_count": 111,
   "metadata": {},
   "outputs": [
    {
     "ename": "TypeError",
     "evalue": "lagrange() got an unexpected keyword argument 'n'",
     "output_type": "error",
     "traceback": [
      "\u001b[0;31m---------------------------------------------------------------------------\u001b[0m",
      "\u001b[0;31mTypeError\u001b[0m                                 Traceback (most recent call last)",
      "Cell \u001b[0;32mIn [111], line 1\u001b[0m\n\u001b[0;32m----> 1\u001b[0m lagrange(\n\u001b[1;32m      2\u001b[0m   x \u001b[39m=\u001b[39;49m ex1[\u001b[39m0\u001b[39;49m], \n\u001b[1;32m      3\u001b[0m   y \u001b[39m=\u001b[39;49m ex1[\u001b[39m1\u001b[39;49m], \n\u001b[1;32m      4\u001b[0m   n \u001b[39m=\u001b[39;49m \u001b[39mlen\u001b[39;49m(ex1[\u001b[39m0\u001b[39;49m]),\n\u001b[1;32m      5\u001b[0m   solve\u001b[39m=\u001b[39;49m \u001b[39mFalse\u001b[39;49;00m\n\u001b[1;32m      6\u001b[0m   )\n",
      "\u001b[0;31mTypeError\u001b[0m: lagrange() got an unexpected keyword argument 'n'"
     ]
    }
   ],
   "source": [
    "lagrange(\n",
    "  x = ex1[0], \n",
    "  y = ex1[1], \n",
    "  n = len(ex1[0]),\n",
    "  solve= False\n",
    "  )"
   ]
  },
  {
   "cell_type": "markdown",
   "metadata": {},
   "source": [
    "#### 2) Encontre o polinômio que interpola o conjunto de pontos a seguir utilizando o Método de Newton."
   ]
  },
  {
   "cell_type": "code",
   "execution_count": null,
   "metadata": {},
   "outputs": [],
   "source": [
    "ex2 = [\n",
    "  [-1, 0, 1, 2, 3], \n",
    "  [2, 1, 4, -7, 20]\n",
    "  ]"
   ]
  },
  {
   "cell_type": "code",
   "execution_count": null,
   "metadata": {},
   "outputs": [
    {
     "data": {
      "text/latex": [
       "$\\displaystyle 2.91666666666667 x^{4} - 8.83333333333333 x^{3} - 0.916666666666667 x^{2} + 9.83333333333333 x + 1.0$"
      ],
      "text/plain": [
       "2.91666666666667*x**4 - 8.83333333333333*x**3 - 0.916666666666667*x**2 + 9.83333333333333*x + 1.0"
      ]
     },
     "execution_count": 105,
     "metadata": {},
     "output_type": "execute_result"
    }
   ],
   "source": [
    "newton(\n",
    "  x = ex2[0], \n",
    "  y = ex2[1], \n",
    "  n = len(ex2[0]),\n",
    "  solve = False\n",
    "  )"
   ]
  },
  {
   "cell_type": "markdown",
   "metadata": {},
   "source": [
    "#### 3) Considere os dados:"
   ]
  },
  {
   "cell_type": "code",
   "execution_count": null,
   "metadata": {},
   "outputs": [],
   "source": [
    "ex3 = [\n",
    "  [0.0, 0.5, 1.0, 1.5, 2.0, 2.5, 3.0], \n",
    "  [0.50000, 0.69146, 0.84134, 0.93319, 0.97725, 0.99379, 0.99865]\n",
    "  ]"
   ]
  },
  {
   "cell_type": "markdown",
   "metadata": {},
   "source": [
    "a) Calcular Pn(0,3) utilizando polinômios interpoladores de graus n = 1,2,3,4,5 e 6 (usando o Método de Lagrange ou o Método de Newton)."
   ]
  },
  {
   "cell_type": "code",
   "execution_count": null,
   "metadata": {},
   "outputs": [],
   "source": []
  }
 ],
 "metadata": {
  "kernelspec": {
   "display_name": "Python 3.9.12 ('base')",
   "language": "python",
   "name": "python3"
  },
  "language_info": {
   "codemirror_mode": {
    "name": "ipython",
    "version": 3
   },
   "file_extension": ".py",
   "mimetype": "text/x-python",
   "name": "python",
   "nbconvert_exporter": "python",
   "pygments_lexer": "ipython3",
   "version": "3.9.12"
  },
  "orig_nbformat": 4,
  "vscode": {
   "interpreter": {
    "hash": "da980a8ceded168c05c950db9fb98093b2684142ab08886b8c4b26f88258a035"
   }
  }
 },
 "nbformat": 4,
 "nbformat_minor": 2
}
