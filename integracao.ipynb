{
 "cells": [
  {
   "cell_type": "code",
   "execution_count": 173,
   "metadata": {},
   "outputs": [],
   "source": [
    "import numpy as np\n",
    "import scipy as sp\n",
    "import pandas as pd"
   ]
  },
  {
   "cell_type": "markdown",
   "metadata": {},
   "source": [
    "## Auxiliar"
   ]
  },
  {
   "cell_type": "code",
   "execution_count": 7,
   "metadata": {},
   "outputs": [],
   "source": [
    "def err_abs(real, aprox):\n",
    "  return np.abs(real - aprox)\n",
    "\n",
    "def err_rel(real, aprox):\n",
    "  return np.abs((real - aprox)/real)"
   ]
  },
  {
   "cell_type": "markdown",
   "metadata": {},
   "source": [
    "## Algoritmos"
   ]
  },
  {
   "cell_type": "code",
   "execution_count": 166,
   "metadata": {},
   "outputs": [],
   "source": [
    "def trapm(h, n, inf, sup, f):\n",
    "  sum = f(inf)\n",
    "\n",
    "  start = inf + 0.1\n",
    "  stop = inf + (n / 10) - 0.1  # - 0.1 para não pegar o limite superior\n",
    "\n",
    "  for i in np.arange(start, stop, 0.1):\n",
    "    sum += 2 * f(round(i, 1))\n",
    "    \n",
    "  sum += f(stop)\n",
    "\n",
    "  return h * sum / 2"
   ]
  },
  {
   "cell_type": "code",
   "execution_count": 167,
   "metadata": {},
   "outputs": [],
   "source": [
    "def simp13m(h, n, inf, f):\n",
    "  sum = f(inf)\n",
    "\n",
    "  start = inf + 0.1\n",
    "  stop = inf + (n / 10) - 0.1 # - 0.1 para não pegar o limite superior\n",
    "\n",
    "  for i in np.arange(start, stop, 0.1):\n",
    "    if i % 2 == 0:\n",
    "      sum += 2 * f(round(i, 1))\n",
    "    else:\n",
    "      sum += 4 * f(round(i, 1))\n",
    "\n",
    "  sum += f(stop)\n",
    "\n",
    "  return h * sum / 3"
   ]
  },
  {
   "cell_type": "code",
   "execution_count": 198,
   "metadata": {},
   "outputs": [],
   "source": [
    "def euler(a, b, initial, m, h, f):\n",
    "  x = a\n",
    "  y = initial\n",
    "\n",
    "  df = pd.DataFrame({'x': x, 'y': y, 'f(x, y)': 0}, index=[0])\n",
    "\n",
    "  aux = f(x, y)\n",
    "\n",
    "  for i in range(1, m):\n",
    "    x = a + i * h\n",
    "    y = y + h * aux\n",
    "    aux = f(x, y)\n",
    "    df = df.append({'x': x, 'y': y, 'f(x, y)': aux}, ignore_index=True)\n",
    "\n",
    "  return df"
   ]
  },
  {
   "cell_type": "code",
   "execution_count": 11,
   "metadata": {},
   "outputs": [],
   "source": [
    "def rk4(a, b, initial, m, f):\n",
    "  h = (b - a) / m\n",
    "  xt = a\n",
    "  yt = initial\n",
    "\n",
    "  vet_x = np.zeros(m + 1)\n",
    "  vet_y = np.zeros(m + 1)\n",
    "\n",
    "  vet_x[0] = xt\n",
    "  vet_y[0] = yt\n",
    "\n",
    "  for i in range(1, m):\n",
    "    x = xt \n",
    "    y = yt\n",
    "    k1 = f(x, y)\n",
    "\n",
    "    x = xt + h / 2\n",
    "    y = yt + h / 2 * k1\n",
    "    k2 = f(x, y)\n",
    "\n",
    "    y = yt + h / 2 * k2\n",
    "    k3 = f(x, y)\n",
    "\n",
    "    x = xt + h\n",
    "    y = yt + h * k3\n",
    "    k4 = f(x, y)\n",
    "\n",
    "    xt = a + i * h\n",
    "    yt = yt + h / 6 * (k1 + 2 * k2 + 2 * k3 + k4)\n",
    "\n",
    "    vet_x[i + 1] = xt\n",
    "    vet_y[i + 1] = yt\n",
    "\n",
    "  return vet_x, vet_y"
   ]
  },
  {
   "cell_type": "markdown",
   "metadata": {},
   "source": [
    "## Exercícios"
   ]
  },
  {
   "cell_type": "markdown",
   "metadata": {},
   "source": [
    "1) Calcule a seguinte integral:"
   ]
  },
  {
   "cell_type": "code",
   "execution_count": 12,
   "metadata": {},
   "outputs": [
    {
     "data": {
      "text/plain": [
       "<function __main__.<lambda>(x)>"
      ]
     },
     "execution_count": 12,
     "metadata": {},
     "output_type": "execute_result"
    }
   ],
   "source": [
    "lambda x : np.cos(x) / (1 + x)"
   ]
  },
  {
   "cell_type": "markdown",
   "metadata": {},
   "source": [
    "a) Analiticamente"
   ]
  },
  {
   "cell_type": "code",
   "execution_count": 59,
   "metadata": {},
   "outputs": [
    {
     "data": {
      "text/plain": [
       "0.04077775679533804"
      ]
     },
     "execution_count": 59,
     "metadata": {},
     "output_type": "execute_result"
    }
   ],
   "source": [
    "quest_a = sp.integrate.quad(lambda x : np.cos(x) / (1 + x), 1, 2)\n",
    "quest_a[0]"
   ]
  },
  {
   "cell_type": "markdown",
   "metadata": {},
   "source": [
    "b) por aplicações múltiplas da regra do Trapézio, com n = 6;"
   ]
  },
  {
   "cell_type": "code",
   "execution_count": 168,
   "metadata": {},
   "outputs": [
    {
     "data": {
      "text/plain": [
       "0.07170527214845739"
      ]
     },
     "execution_count": 168,
     "metadata": {},
     "output_type": "execute_result"
    }
   ],
   "source": [
    "quest_b = trapm(0.1, 6, 1, 2, lambda x : np.cos(x) / (1 + x))\n",
    "quest_b"
   ]
  },
  {
   "cell_type": "code",
   "execution_count": 170,
   "metadata": {},
   "outputs": [
    {
     "data": {
      "text/plain": [
       "0.758440821263007"
      ]
     },
     "execution_count": 170,
     "metadata": {},
     "output_type": "execute_result"
    }
   ],
   "source": [
    "err_rel(quest_a[0], quest_b)"
   ]
  },
  {
   "cell_type": "markdown",
   "metadata": {},
   "source": [
    "c) por aplicação múltipla da regra 1/3 de Simpson, com n = 6"
   ]
  },
  {
   "cell_type": "code",
   "execution_count": 169,
   "metadata": {},
   "outputs": [
    {
     "data": {
      "text/plain": [
       "0.08565882841123813"
      ]
     },
     "execution_count": 169,
     "metadata": {},
     "output_type": "execute_result"
    }
   ],
   "source": [
    "quest_c = simp13m(0.1, 6, 1, lambda x : np.cos(x) / (1 + x))\n",
    "quest_c"
   ]
  },
  {
   "cell_type": "code",
   "execution_count": 172,
   "metadata": {},
   "outputs": [
    {
     "data": {
      "text/plain": [
       "1.10062630078345"
      ]
     },
     "execution_count": 172,
     "metadata": {},
     "output_type": "execute_result"
    }
   ],
   "source": [
    "err_rel(quest_a[0], quest_c)"
   ]
  },
  {
   "cell_type": "markdown",
   "metadata": {},
   "source": [
    "2. Usando o método de Euler, calcule a solução aproximada para:"
   ]
  },
  {
   "cell_type": "code",
   "execution_count": 202,
   "metadata": {},
   "outputs": [
    {
     "name": "stderr",
     "output_type": "stream",
     "text": [
      "/var/folders/k0/sr088lv560v19y4dz_tfgq980000gn/T/ipykernel_81563/1950425958.py:14: FutureWarning: The frame.append method is deprecated and will be removed from pandas in a future version. Use pandas.concat instead.\n",
      "  df = df.append({'x': x, 'y': y, 'f(x, y)': aux}, ignore_index=True)\n",
      "/var/folders/k0/sr088lv560v19y4dz_tfgq980000gn/T/ipykernel_81563/1950425958.py:14: FutureWarning: The frame.append method is deprecated and will be removed from pandas in a future version. Use pandas.concat instead.\n",
      "  df = df.append({'x': x, 'y': y, 'f(x, y)': aux}, ignore_index=True)\n",
      "/var/folders/k0/sr088lv560v19y4dz_tfgq980000gn/T/ipykernel_81563/1950425958.py:14: FutureWarning: The frame.append method is deprecated and will be removed from pandas in a future version. Use pandas.concat instead.\n",
      "  df = df.append({'x': x, 'y': y, 'f(x, y)': aux}, ignore_index=True)\n",
      "/var/folders/k0/sr088lv560v19y4dz_tfgq980000gn/T/ipykernel_81563/1950425958.py:14: FutureWarning: The frame.append method is deprecated and will be removed from pandas in a future version. Use pandas.concat instead.\n",
      "  df = df.append({'x': x, 'y': y, 'f(x, y)': aux}, ignore_index=True)\n",
      "/var/folders/k0/sr088lv560v19y4dz_tfgq980000gn/T/ipykernel_81563/1950425958.py:14: FutureWarning: The frame.append method is deprecated and will be removed from pandas in a future version. Use pandas.concat instead.\n",
      "  df = df.append({'x': x, 'y': y, 'f(x, y)': aux}, ignore_index=True)\n",
      "/var/folders/k0/sr088lv560v19y4dz_tfgq980000gn/T/ipykernel_81563/1950425958.py:14: FutureWarning: The frame.append method is deprecated and will be removed from pandas in a future version. Use pandas.concat instead.\n",
      "  df = df.append({'x': x, 'y': y, 'f(x, y)': aux}, ignore_index=True)\n",
      "/var/folders/k0/sr088lv560v19y4dz_tfgq980000gn/T/ipykernel_81563/1950425958.py:14: FutureWarning: The frame.append method is deprecated and will be removed from pandas in a future version. Use pandas.concat instead.\n",
      "  df = df.append({'x': x, 'y': y, 'f(x, y)': aux}, ignore_index=True)\n",
      "/var/folders/k0/sr088lv560v19y4dz_tfgq980000gn/T/ipykernel_81563/1950425958.py:14: FutureWarning: The frame.append method is deprecated and will be removed from pandas in a future version. Use pandas.concat instead.\n",
      "  df = df.append({'x': x, 'y': y, 'f(x, y)': aux}, ignore_index=True)\n",
      "/var/folders/k0/sr088lv560v19y4dz_tfgq980000gn/T/ipykernel_81563/1950425958.py:14: FutureWarning: The frame.append method is deprecated and will be removed from pandas in a future version. Use pandas.concat instead.\n",
      "  df = df.append({'x': x, 'y': y, 'f(x, y)': aux}, ignore_index=True)\n"
     ]
    },
    {
     "data": {
      "text/html": [
       "<div>\n",
       "<style scoped>\n",
       "    .dataframe tbody tr th:only-of-type {\n",
       "        vertical-align: middle;\n",
       "    }\n",
       "\n",
       "    .dataframe tbody tr th {\n",
       "        vertical-align: top;\n",
       "    }\n",
       "\n",
       "    .dataframe thead th {\n",
       "        text-align: right;\n",
       "    }\n",
       "</style>\n",
       "<table border=\"1\" class=\"dataframe\">\n",
       "  <thead>\n",
       "    <tr style=\"text-align: right;\">\n",
       "      <th></th>\n",
       "      <th>x</th>\n",
       "      <th>y</th>\n",
       "      <th>f(x, y)</th>\n",
       "    </tr>\n",
       "  </thead>\n",
       "  <tbody>\n",
       "    <tr>\n",
       "      <th>0</th>\n",
       "      <td>1.0</td>\n",
       "      <td>-1.000000</td>\n",
       "      <td>0.000000</td>\n",
       "    </tr>\n",
       "    <tr>\n",
       "      <th>1</th>\n",
       "      <td>1.1</td>\n",
       "      <td>-0.700000</td>\n",
       "      <td>1.952810</td>\n",
       "    </tr>\n",
       "    <tr>\n",
       "      <th>2</th>\n",
       "      <td>1.2</td>\n",
       "      <td>-0.504719</td>\n",
       "      <td>1.369785</td>\n",
       "    </tr>\n",
       "    <tr>\n",
       "      <th>3</th>\n",
       "      <td>1.3</td>\n",
       "      <td>-0.367741</td>\n",
       "      <td>1.009826</td>\n",
       "    </tr>\n",
       "    <tr>\n",
       "      <th>4</th>\n",
       "      <td>1.4</td>\n",
       "      <td>-0.266758</td>\n",
       "      <td>0.771905</td>\n",
       "    </tr>\n",
       "    <tr>\n",
       "      <th>5</th>\n",
       "      <td>1.5</td>\n",
       "      <td>-0.189567</td>\n",
       "      <td>0.606758</td>\n",
       "    </tr>\n",
       "    <tr>\n",
       "      <th>6</th>\n",
       "      <td>1.6</td>\n",
       "      <td>-0.128892</td>\n",
       "      <td>0.487795</td>\n",
       "    </tr>\n",
       "    <tr>\n",
       "      <th>7</th>\n",
       "      <td>1.7</td>\n",
       "      <td>-0.080112</td>\n",
       "      <td>0.399563</td>\n",
       "    </tr>\n",
       "    <tr>\n",
       "      <th>8</th>\n",
       "      <td>1.8</td>\n",
       "      <td>-0.040156</td>\n",
       "      <td>0.332563</td>\n",
       "    </tr>\n",
       "    <tr>\n",
       "      <th>9</th>\n",
       "      <td>1.9</td>\n",
       "      <td>-0.006899</td>\n",
       "      <td>0.280687</td>\n",
       "    </tr>\n",
       "  </tbody>\n",
       "</table>\n",
       "</div>"
      ],
      "text/plain": [
       "     x         y   f(x, y)\n",
       "0  1.0 -1.000000  0.000000\n",
       "1  1.1 -0.700000  1.952810\n",
       "2  1.2 -0.504719  1.369785\n",
       "3  1.3 -0.367741  1.009826\n",
       "4  1.4 -0.266758  0.771905\n",
       "5  1.5 -0.189567  0.606758\n",
       "6  1.6 -0.128892  0.487795\n",
       "7  1.7 -0.080112  0.399563\n",
       "8  1.8 -0.040156  0.332563\n",
       "9  1.9 -0.006899  0.280687"
      ]
     },
     "execution_count": 202,
     "metadata": {},
     "output_type": "execute_result"
    }
   ],
   "source": [
    "euler(1, 2, -1, 10, 0.1, lambda x, y : 1 / x**2 - (y / x - y ** 2))"
   ]
  },
  {
   "cell_type": "code",
   "execution_count": 201,
   "metadata": {},
   "outputs": [
    {
     "name": "stderr",
     "output_type": "stream",
     "text": [
      "/var/folders/k0/sr088lv560v19y4dz_tfgq980000gn/T/ipykernel_81563/1950425958.py:14: FutureWarning: The frame.append method is deprecated and will be removed from pandas in a future version. Use pandas.concat instead.\n",
      "  df = df.append({'x': x, 'y': y, 'f(x, y)': aux}, ignore_index=True)\n",
      "/var/folders/k0/sr088lv560v19y4dz_tfgq980000gn/T/ipykernel_81563/1950425958.py:14: FutureWarning: The frame.append method is deprecated and will be removed from pandas in a future version. Use pandas.concat instead.\n",
      "  df = df.append({'x': x, 'y': y, 'f(x, y)': aux}, ignore_index=True)\n",
      "/var/folders/k0/sr088lv560v19y4dz_tfgq980000gn/T/ipykernel_81563/1950425958.py:14: FutureWarning: The frame.append method is deprecated and will be removed from pandas in a future version. Use pandas.concat instead.\n",
      "  df = df.append({'x': x, 'y': y, 'f(x, y)': aux}, ignore_index=True)\n",
      "/var/folders/k0/sr088lv560v19y4dz_tfgq980000gn/T/ipykernel_81563/1950425958.py:14: FutureWarning: The frame.append method is deprecated and will be removed from pandas in a future version. Use pandas.concat instead.\n",
      "  df = df.append({'x': x, 'y': y, 'f(x, y)': aux}, ignore_index=True)\n",
      "/var/folders/k0/sr088lv560v19y4dz_tfgq980000gn/T/ipykernel_81563/1950425958.py:14: FutureWarning: The frame.append method is deprecated and will be removed from pandas in a future version. Use pandas.concat instead.\n",
      "  df = df.append({'x': x, 'y': y, 'f(x, y)': aux}, ignore_index=True)\n",
      "/var/folders/k0/sr088lv560v19y4dz_tfgq980000gn/T/ipykernel_81563/1950425958.py:14: FutureWarning: The frame.append method is deprecated and will be removed from pandas in a future version. Use pandas.concat instead.\n",
      "  df = df.append({'x': x, 'y': y, 'f(x, y)': aux}, ignore_index=True)\n",
      "/var/folders/k0/sr088lv560v19y4dz_tfgq980000gn/T/ipykernel_81563/1950425958.py:14: FutureWarning: The frame.append method is deprecated and will be removed from pandas in a future version. Use pandas.concat instead.\n",
      "  df = df.append({'x': x, 'y': y, 'f(x, y)': aux}, ignore_index=True)\n",
      "/var/folders/k0/sr088lv560v19y4dz_tfgq980000gn/T/ipykernel_81563/1950425958.py:14: FutureWarning: The frame.append method is deprecated and will be removed from pandas in a future version. Use pandas.concat instead.\n",
      "  df = df.append({'x': x, 'y': y, 'f(x, y)': aux}, ignore_index=True)\n",
      "/var/folders/k0/sr088lv560v19y4dz_tfgq980000gn/T/ipykernel_81563/1950425958.py:14: FutureWarning: The frame.append method is deprecated and will be removed from pandas in a future version. Use pandas.concat instead.\n",
      "  df = df.append({'x': x, 'y': y, 'f(x, y)': aux}, ignore_index=True)\n"
     ]
    },
    {
     "data": {
      "text/html": [
       "<div>\n",
       "<style scoped>\n",
       "    .dataframe tbody tr th:only-of-type {\n",
       "        vertical-align: middle;\n",
       "    }\n",
       "\n",
       "    .dataframe tbody tr th {\n",
       "        vertical-align: top;\n",
       "    }\n",
       "\n",
       "    .dataframe thead th {\n",
       "        text-align: right;\n",
       "    }\n",
       "</style>\n",
       "<table border=\"1\" class=\"dataframe\">\n",
       "  <thead>\n",
       "    <tr style=\"text-align: right;\">\n",
       "      <th></th>\n",
       "      <th>x</th>\n",
       "      <th>y</th>\n",
       "      <th>f(x, y)</th>\n",
       "    </tr>\n",
       "  </thead>\n",
       "  <tbody>\n",
       "    <tr>\n",
       "      <th>0</th>\n",
       "      <td>1.0</td>\n",
       "      <td>-1.000000</td>\n",
       "      <td>0.000000</td>\n",
       "    </tr>\n",
       "    <tr>\n",
       "      <th>1</th>\n",
       "      <td>1.1</td>\n",
       "      <td>-0.700000</td>\n",
       "      <td>1.952810</td>\n",
       "    </tr>\n",
       "    <tr>\n",
       "      <th>2</th>\n",
       "      <td>1.2</td>\n",
       "      <td>-0.504719</td>\n",
       "      <td>1.369785</td>\n",
       "    </tr>\n",
       "    <tr>\n",
       "      <th>3</th>\n",
       "      <td>1.3</td>\n",
       "      <td>-0.367741</td>\n",
       "      <td>1.009826</td>\n",
       "    </tr>\n",
       "    <tr>\n",
       "      <th>4</th>\n",
       "      <td>1.4</td>\n",
       "      <td>-0.266758</td>\n",
       "      <td>0.771905</td>\n",
       "    </tr>\n",
       "    <tr>\n",
       "      <th>5</th>\n",
       "      <td>1.5</td>\n",
       "      <td>-0.189567</td>\n",
       "      <td>0.606758</td>\n",
       "    </tr>\n",
       "    <tr>\n",
       "      <th>6</th>\n",
       "      <td>1.6</td>\n",
       "      <td>-0.128892</td>\n",
       "      <td>0.487795</td>\n",
       "    </tr>\n",
       "    <tr>\n",
       "      <th>7</th>\n",
       "      <td>1.7</td>\n",
       "      <td>-0.080112</td>\n",
       "      <td>0.399563</td>\n",
       "    </tr>\n",
       "    <tr>\n",
       "      <th>8</th>\n",
       "      <td>1.8</td>\n",
       "      <td>-0.040156</td>\n",
       "      <td>0.332563</td>\n",
       "    </tr>\n",
       "    <tr>\n",
       "      <th>9</th>\n",
       "      <td>1.9</td>\n",
       "      <td>-0.006899</td>\n",
       "      <td>0.280687</td>\n",
       "    </tr>\n",
       "  </tbody>\n",
       "</table>\n",
       "</div>"
      ],
      "text/plain": [
       "     x         y   f(x, y)\n",
       "0  1.0 -1.000000  0.000000\n",
       "1  1.1 -0.700000  1.952810\n",
       "2  1.2 -0.504719  1.369785\n",
       "3  1.3 -0.367741  1.009826\n",
       "4  1.4 -0.266758  0.771905\n",
       "5  1.5 -0.189567  0.606758\n",
       "6  1.6 -0.128892  0.487795\n",
       "7  1.7 -0.080112  0.399563\n",
       "8  1.8 -0.040156  0.332563\n",
       "9  1.9 -0.006899  0.280687"
      ]
     },
     "execution_count": 201,
     "metadata": {},
     "output_type": "execute_result"
    }
   ],
   "source": [
    "euler(1, 2, -1, 10, 0.2, lambda x, y : 1 / x**2 - (y / x - y ** 2))"
   ]
  }
 ],
 "metadata": {
  "kernelspec": {
   "display_name": "Python 3.9.12 ('base')",
   "language": "python",
   "name": "python3"
  },
  "language_info": {
   "codemirror_mode": {
    "name": "ipython",
    "version": 3
   },
   "file_extension": ".py",
   "mimetype": "text/x-python",
   "name": "python",
   "nbconvert_exporter": "python",
   "pygments_lexer": "ipython3",
   "version": "3.9.12"
  },
  "orig_nbformat": 4,
  "vscode": {
   "interpreter": {
    "hash": "da980a8ceded168c05c950db9fb98093b2684142ab08886b8c4b26f88258a035"
   }
  }
 },
 "nbformat": 4,
 "nbformat_minor": 2
}
