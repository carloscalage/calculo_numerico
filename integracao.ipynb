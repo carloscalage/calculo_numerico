{
 "cells": [
  {
   "cell_type": "code",
   "execution_count": 3,
   "metadata": {},
   "outputs": [],
   "source": [
    "import numpy as np"
   ]
  },
  {
   "cell_type": "markdown",
   "metadata": {},
   "source": [
    "## Auxiliar"
   ]
  },
  {
   "cell_type": "code",
   "execution_count": 2,
   "metadata": {},
   "outputs": [],
   "source": [
    "def err_abs(real, aprox):\n",
    "  return np.abs(real - aprox)\n",
    "\n",
    "def err_rel(real, aprox):\n",
    "  return np.abs((real - aprox)/real)"
   ]
  },
  {
   "cell_type": "markdown",
   "metadata": {},
   "source": [
    "## Algoritmos"
   ]
  },
  {
   "cell_type": "code",
   "execution_count": 48,
   "metadata": {},
   "outputs": [],
   "source": [
    "def trapm(h, n, f):\n",
    "  sum = f(0)\n",
    "\n",
    "  for i in range(1, n - 1):\n",
    "    sum += 2 * f(i / 10)\n",
    "\n",
    "  sum += f((n - 1) / 10)\n",
    "\n",
    "  return h * sum / 2"
   ]
  },
  {
   "cell_type": "code",
   "execution_count": 92,
   "metadata": {},
   "outputs": [],
   "source": [
    "def simp13m(h, n, f):\n",
    "  sum = f(0)\n",
    "\n",
    "  for i in range(1, n - 1):\n",
    "    if i % 2 == 0:\n",
    "      sum += 2 * f(i / 10)\n",
    "    else:\n",
    "      sum += 4 * f(i / 10)\n",
    "\n",
    "  sum += f((n - 1) / 10)\n",
    "\n",
    "  return h * sum / 3"
   ]
  },
  {
   "cell_type": "code",
   "execution_count": 107,
   "metadata": {},
   "outputs": [],
   "source": [
    "def euler(a, b, initial, m, h, f):\n",
    "  h = (b - a) / m\n",
    "  x = a\n",
    "  y = initial\n",
    "\n",
    "  vet_x = np.zeros(m + 1)\n",
    "  vet_y = np.zeros(m + 1)\n",
    "\n",
    "  vet_x[0] = x\n",
    "  vet_y[0] = y\n",
    "\n",
    "  aux = f(x, y)\n",
    "\n",
    "  for i in range(1, m):\n",
    "    x = a + i * h\n",
    "    y = y + h * aux\n",
    "    aux = f(x, y)\n",
    "    vet_x[i + 1] = x\n",
    "    vet_y[i + 1] = y\n",
    "\n",
    "  return vet_x, vet_y, aux"
   ]
  },
  {
   "cell_type": "markdown",
   "metadata": {},
   "source": [
    "## Exercícios"
   ]
  },
  {
   "cell_type": "code",
   "execution_count": 93,
   "metadata": {},
   "outputs": [
    {
     "data": {
      "text/plain": [
       "1.3817130765271601"
      ]
     },
     "execution_count": 93,
     "metadata": {},
     "output_type": "execute_result"
    }
   ],
   "source": [
    "simp13m(0.1, 10, lambda x: np.exp(x))"
   ]
  },
  {
   "cell_type": "code",
   "execution_count": 94,
   "metadata": {},
   "outputs": [
    {
     "data": {
      "text/plain": [
       "1.4608192444085148"
      ]
     },
     "execution_count": 94,
     "metadata": {},
     "output_type": "execute_result"
    }
   ],
   "source": [
    "trapm(0.1, 10, lambda x: np.exp(x))"
   ]
  },
  {
   "cell_type": "code",
   "execution_count": 108,
   "metadata": {},
   "outputs": [
    {
     "data": {
      "text/plain": [
       "(array([0. , 0. , 0.1, 0.2, 0.3, 0.4, 0.5, 0.6, 0.7, 0.8, 0.9]),\n",
       " array([1.        , 0.        , 1.        , 0.99      , 0.9702    ,\n",
       "        0.941094  , 0.90345024, 0.85827773, 0.80678106, 0.75030639,\n",
       "        0.69028188]),\n",
       " -0.6212536907689729)"
      ]
     },
     "execution_count": 108,
     "metadata": {},
     "output_type": "execute_result"
    }
   ],
   "source": [
    "euler(0, 1, 1, 10, 0.1, lambda x, y: -x * y)"
   ]
  },
  {
   "cell_type": "code",
   "execution_count": null,
   "metadata": {},
   "outputs": [],
   "source": []
  }
 ],
 "metadata": {
  "kernelspec": {
   "display_name": "Python 3.9.12 ('base')",
   "language": "python",
   "name": "python3"
  },
  "language_info": {
   "codemirror_mode": {
    "name": "ipython",
    "version": 3
   },
   "file_extension": ".py",
   "mimetype": "text/x-python",
   "name": "python",
   "nbconvert_exporter": "python",
   "pygments_lexer": "ipython3",
   "version": "3.9.12"
  },
  "orig_nbformat": 4,
  "vscode": {
   "interpreter": {
    "hash": "da980a8ceded168c05c950db9fb98093b2684142ab08886b8c4b26f88258a035"
   }
  }
 },
 "nbformat": 4,
 "nbformat_minor": 2
}
